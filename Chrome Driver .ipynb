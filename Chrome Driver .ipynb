{
 "cells": [
  {
   "cell_type": "markdown",
   "metadata": {},
   "source": [
    "## Chrome Driver"
   ]
  },
  {
   "cell_type": "code",
   "execution_count": null,
   "metadata": {},
   "outputs": [],
   "source": [
    "# window 환경일때\n",
    "from selenium import webdriver\n",
    "from bs4 import BeautifulSoup\n",
    "import time\n",
    "\n",
    "options = webdriver.ChromeOptions()\n",
    "options.add_argument('window-size=1920x1080')\n",
    "\n",
    "driver = webdriver.Chrome('./chromedriver.exe', options=options)\n",
    "driver.get('http://ihongss.com/webboard')\n",
    "\n",
    "# mac 환경일때\n",
    "from selenium import webdriver\n",
    "import urllib.request\n",
    "import time\n",
    "\n",
    "options = webdriver.ChromeOptions()\n",
    "options.add_argument('window-size=1920x1080')\n",
    "\n",
    "driver = webdriver.Chrome('./chromedriver', options=options)\n",
    "driver.get('http://ihongss.com/webboard') # 들어가고자하는 주소입력"
   ]
  },
  {
   "cell_type": "code",
   "execution_count": null,
   "metadata": {},
   "outputs": [],
   "source": [
    "\n",
    "# mac 환경일때\n",
    "from selenium import webdriver\n",
    "from bs4 import BeautifulSoup\n",
    "import urllib.request\n",
    "import time\n",
    "\n",
    "options = webdriver.ChromeOptions()\n",
    "options.add_argument('window-size=1920x1080')\n",
    "\n",
    "driver = webdriver.Chrome('./chromedriver', options=options)\n",
    "driver.get('http://ihongss.com/webboard') # 들어가고자하는 주소입력\n",
    "\n",
    "driver.find_element_by_xpath('//*[@id=\"form1\"]/div[1]/input').send_keys(\"p20200706\") # 이메일 입력창에 자동적으로 값입력, xpath로 해야함\n",
    "driver.find_element_by_xpath('//*[@id=\"form1\"]/div[2]/input').send_keys(\"p20200706\") # 비밀번호 입력창에 자동적으로 값입력, xpath로 해야함\n",
    "\n",
    "driver.find_element_by_css_selector('#form1 > div:nth-child(4) > input').click() # 로그인 버튼이 눌러지게 설정\n",
    "\n",
    "time.sleep(1) # 1초 딜레이\n",
    "\n",
    "html1 = driver.page_source #html로 가져오기\n",
    "soup = BeautifulSoup(html1, 'html.parser')"
   ]
  },
  {
   "cell_type": "markdown",
   "metadata": {},
   "source": [
    "## 크롬 드라이버를 이용해 웹데이터 수집"
   ]
  },
  {
   "cell_type": "code",
   "execution_count": null,
   "metadata": {},
   "outputs": [],
   "source": [
    "from selenium import webdriver\n",
    "from bs4 import BeautifulSoup\n",
    "import urllib.request\n",
    "import time\n",
    "\n",
    "options = webdriver.ChromeOptions()\n",
    "#options.add_argument('headless') #화면 표시 X\n",
    "options.add_argument(\"disable-gpu\")   \n",
    "options.add_argument(\"lang=ko_KR\")    \n",
    "options.add_argument('user-agent=Mozilla/5.0 (Macintosh; Intel Mac OS X 10_12_6) AppleWebKit/537.36 (KHTML, like Gecko) Chrome/61.0.3163.100 Safari/537.36')  # user-agent \n",
    "\n",
    "driver = webdriver.Chrome('./chromedriver', options=options) # 맥os 일때 경로 지정 중요\n",
    "driver.get('https://shoppinghow.kakao.com/top')\n",
    "\n",
    "time.sleep(1) # 1초 딜레이\n",
    "\n",
    "#컨트롤하는 부분 구현\n",
    "html1=driver.page_source #html1으로 가져오기\n",
    "soup=BeautifulSoup(html1,'html.parser')\n",
    "\n",
    "####자동화 하는 부분\n",
    "driver.find_element_by_xpath('//*[@id=\"form1\"]/div[1]/input').send_keys('p20200706') #xpath형태로 복사해야함, 아이디\n",
    "driver.find_element_by_xpath('//*[@id=\"form1\"]/div[2]/input').send_keys('p20200706') #xpath형태로 복사해야함, 비밀번호\n",
    "\n",
    "driver.find_element_by_css_selector('#form1 > div:nth-child(4) > input').click() # 자동으로 클릭(selector)하게함\n",
    "\n"
   ]
  },
  {
   "cell_type": "markdown",
   "metadata": {},
   "source": [
    "## 크롬 드라이버를 이용해 웹데이터 이미지 수집"
   ]
  },
  {
   "cell_type": "code",
   "execution_count": null,
   "metadata": {},
   "outputs": [],
   "source": [
    "# 네이버에 검색해서 이미지 순서대로 받아오기\n",
    "\n",
    "from selenium import webdriver\n",
    "from bs4 import BeautifulSoup\n",
    "import urllib.request\n",
    "import time\n",
    "from selenium.webdriver.common.keys import Keys\n",
    "\n",
    "options = webdriver.ChromeOptions()\n",
    "#options.add_argument('headless') #화면 표시 X\n",
    "options.add_argument(\"disable-gpu\")   \n",
    "options.add_argument(\"lang=ko_KR\")    \n",
    "options.add_argument('user-agent=Mozilla/5.0 (Macintosh; Intel Mac OS X 10_12_6) AppleWebKit/537.36 (KHTML, like Gecko) Chrome/61.0.3163.100 Safari/537.36')  # user-agent \n",
    "\n",
    "driver = webdriver.Chrome(executable_path='./chromedriver', options=options)\n",
    "driver.get('https://naver.com')\n",
    "\n",
    "driver.find_element_by_xpath('//*[@id=\"query\"]').send_keys('호랑이') # 검색창에 입력\n",
    "driver.find_element_by_xpath('//*[@id=\"query\"]').send_keys(Keys.ENTER)\n",
    "\n",
    "#이미지 클릭\n",
    "driver.find_element_by_xpath('//*[@id=\"lnb\"]/div/div[1]/ul/li[2]/a/span').click()\n",
    "\n",
    "for i in range(1, 6, 1): # 1부터 5까지 반복\n",
    "    time.sleep(1) #1초 delay\n",
    "    try: \n",
    "        #첫번째 방법으로 실행해서 오류가 발생하면 except로 이동\n",
    "        img = driver.find_element_by_xpath('//*[@id=\"_sau_imageTab\"]/div[1]/div[2]/div['+ str(i) +']/a[1]/img')\n",
    "    except Exception as e:\n",
    "        #첫번째 방법으로 실패한 경우에 2번째 시도\n",
    "        img = driver.find_element_by_xpath('//*[@id=\"_sau_imageTab\"]/div[2]/div[2]/div['+ str(i) +']/a[1]/img')\n",
    "    \n",
    "    #src태그의 이미지 주소를 가져옴.    \n",
    "    file = img.get_attribute(\"src\")\n",
    "    \n",
    "    #이미지 주소를 이용하여 파일 다운로드\n",
    "    #urllib.request.urlretrieve(file, './tiger'+str(i)+\".jpg\") # 이름 변경하여 저장\n",
    "\n",
    "# 크롬 닫기\n",
    "#driver.close() "
   ]
  }
 ],
 "metadata": {
  "kernelspec": {
   "display_name": "Python 3",
   "language": "python",
   "name": "python3"
  },
  "language_info": {
   "codemirror_mode": {
    "name": "ipython",
    "version": 3
   },
   "file_extension": ".py",
   "mimetype": "text/x-python",
   "name": "python",
   "nbconvert_exporter": "python",
   "pygments_lexer": "ipython3",
   "version": "3.7.6"
  }
 },
 "nbformat": 4,
 "nbformat_minor": 4
}

{
 "cells": [
  {
   "cell_type": "code",
   "execution_count": null,
   "metadata": {},
   "outputs": [],
   "source": [
    "# docker 다운로드\n",
    "# www.github.com/docker/toolbox/releases"
   ]
  },
  {
   "cell_type": "code",
   "execution_count": null,
   "metadata": {},
   "outputs": [],
   "source": [
    "# docker search mongo=> 설치하고자 하는 이미지 검색\n",
    "# docker pull mongo => 이미지 가져오기\n",
    "# docker images => 가져온 이미지 보기\n",
    "# 컨테이너 (실제 실행 프로그램 만들기)\n",
    "# docker run --name m01 -d -p 32767:27017 mongo => 컨테이너(실제 실행프로그램 만들기) window 포트번호:mongo포트번호를 연결 \n",
    "# docker ps -a             => 컨테이너 구동확인\n",
    "# docker server 192.168.99.100"
   ]
  },
  {
   "cell_type": "code",
   "execution_count": 2,
   "metadata": {
    "scrolled": true
   },
   "outputs": [
    {
     "name": "stdout",
     "output_type": "stream",
     "text": [
      "Hello world\n"
     ]
    }
   ],
   "source": [
    "print('Hello world')"
   ]
  },
  {
   "cell_type": "code",
   "execution_count": 7,
   "metadata": {},
   "outputs": [
    {
     "name": "stdout",
     "output_type": "stream",
     "text": [
      "<class 'int'>\n",
      "11\n",
      "30\n",
      "-1\n",
      "5\n",
      "0.8333333333333334\n",
      "0\n"
     ]
    }
   ],
   "source": [
    "a=5\n",
    "b=6\n",
    "print(type(a))\n",
    "print(a+b)\n",
    "print(a*b)\n",
    "print(a-b)\n",
    "print(a%b) #나머지\n",
    "print(a/b)\n",
    "print(a//b) #몫 "
   ]
  },
  {
   "cell_type": "code",
   "execution_count": 13,
   "metadata": {},
   "outputs": [
    {
     "name": "stdout",
     "output_type": "stream",
     "text": [
      "숫자를 입력하세요: 2\n",
      "숫자를 입력하세요: 3\n",
      "5\n",
      "<class 'int'>\n"
     ]
    }
   ],
   "source": [
    "a=input(\"숫자를 입력하세요: \") #input으로 받으면 int가 아닌 string \n",
    "b=input('숫자를 입력하세요: ')\n",
    "\n",
    "a=int(a) # 타입 변경\n",
    "b=int(b)\n",
    "\n",
    "print(a+b)\n",
    "print(type(a))"
   ]
  },
  {
   "cell_type": "code",
   "execution_count": 14,
   "metadata": {},
   "outputs": [
    {
     "name": "stdout",
     "output_type": "stream",
     "text": [
      "숫자를 입력하세요: 3\n",
      "숫자를 입력하세요: 4\n",
      "숫자를 입력하세요: 2\n",
      "9\n"
     ]
    }
   ],
   "source": [
    "# 문제: 숫자 3개를 입력받아서 합을 구하시오.\n",
    "a=input('숫자를 입력하세요: ')\n",
    "b=input('숫자를 입력하세요: ')\n",
    "c=input('숫자를 입력하세요: ')\n",
    "a=int(a)\n",
    "b=int(b)\n",
    "c=int(c)\n",
    "\n",
    "print(a+b+c)\n"
   ]
  },
  {
   "cell_type": "code",
   "execution_count": 37,
   "metadata": {},
   "outputs": [
    {
     "name": "stdout",
     "output_type": "stream",
     "text": [
      "숫자를 입력하세요: 3\n",
      "숫자를 입력하세요: 3\n",
      "숫자를 입력하세요: 3\n",
      "평균 =3.0\n"
     ]
    }
   ],
   "source": [
    "# 문제: 숫자 3개를 입력받아서 평균을 구하시오.\n",
    "a=input('숫자를 입력하세요: ')\n",
    "b=input('숫자를 입력하세요: ')\n",
    "c=input('숫자를 입력하세요: ')\n",
    "a=int(a)\n",
    "b=int(b)\n",
    "c=int(c)\n",
    "d=(a+b+c)/3\n",
    "\n",
    "print(\"평균 ={}\".format(d)) #{}에 format의 값을 넣음"
   ]
  },
  {
   "cell_type": "code",
   "execution_count": 35,
   "metadata": {},
   "outputs": [
    {
     "name": "stdout",
     "output_type": "stream",
     "text": [
      "숫자를 입력하세요: 3\n",
      "5보다 작습니다.\n",
      "Wow\n"
     ]
    }
   ],
   "source": [
    "# 조건문\n",
    "a=float(input(\"숫자를 입력하세요: \"))\n",
    "if a>5:\n",
    "    pirnt(\"5보다 큽니다.\")    \n",
    "else:\n",
    "    print(\"5보다 작습니다.\")\n",
    "print(\"Wow\")"
   ]
  },
  {
   "cell_type": "code",
   "execution_count": 40,
   "metadata": {},
   "outputs": [
    {
     "name": "stdout",
     "output_type": "stream",
     "text": [
      "> 1번째 숫자: 100\n",
      "> 2번째 숫자: 10\n",
      "\n",
      "처음 입력했던 100.0가 10.0보다 큽니다\n"
     ]
    }
   ],
   "source": [
    "# p.125 예제 4\n",
    "a=float(input(\"> 1번째 숫자: \"))\n",
    "b=float(input(\"> 2번째 숫자: \"))\n",
    "print()\n",
    "\n",
    "if(a>b):\n",
    "    print(\"처음 입력했던 {}가 {}보다 더 큽니다\" .format(a,b))\n",
    "if (b>a):\n",
    "    print(\"두 번째로 입력했던 {}가 {}보다 더 큽니다.\" .format(b,a))"
   ]
  },
  {
   "cell_type": "code",
   "execution_count": 45,
   "metadata": {},
   "outputs": [
    {
     "name": "stdout",
     "output_type": "stream",
     "text": [
      "점수를 입력하세요: 100\n",
      "A\n"
     ]
    }
   ],
   "source": [
    "a = int(input(\"점수를 입력하세요: \"))\n",
    "if 95>=a>90:\n",
    "    print(\"S\")\n",
    "elif a>=90:\n",
    "    print(\"A\")\n",
    "elif a>=80:\n",
    "    print(\"B\")\n",
    "elif a>=70:\n",
    "    print(\"C\")\n",
    "elif a>=60:\n",
    "    print(\"D\")\n",
    "elif a>=50:\n",
    "    print(\"E\")\n",
    "else:\n",
    "    print(\"F\") \n",
    "    "
   ]
  },
  {
   "cell_type": "code",
   "execution_count": 59,
   "metadata": {},
   "outputs": [
    {
     "name": "stdout",
     "output_type": "stream",
     "text": [
      "3\n",
      "[3, 4, 5, 6, 7]\n",
      "[4, 5, 6]\n",
      "23 32\n"
     ]
    }
   ],
   "source": [
    "# 리스트\n",
    "a=[3, 4, 5, 6, 7]\n",
    "#  0, 1, 2, 3, 4\n",
    "#  -5,-4,-3,-2,-1\n",
    "print(a[0]) # 리스트의 첫번째 자리 값을 출력\n",
    "print(a[:5])\n",
    "print(a[1:4]) #1부터 4-1 까지의 값을 출력\n",
    "\n",
    "b=[[1,2,3],[11,12,13],[21,22,23],[31,32,33]]\n",
    "print(b[2][2],b[3][1]) # 2번째 리스트 값과 그 안에 속한 2번째 값 출력 (23) \n",
    "# 튜블\n",
    "# 셋\n",
    "# 딕셔너리"
   ]
  },
  {
   "cell_type": "code",
   "execution_count": 73,
   "metadata": {},
   "outputs": [
    {
     "name": "stdout",
     "output_type": "stream",
     "text": [
      "3 4 5 6 7 \n",
      "0 3 ,1 4 ,2 5 ,3 6 ,4 7 ,<class 'list'>\n"
     ]
    }
   ],
   "source": [
    "# 리스트 : 값만 들어가 있음.\n",
    "a=[3, 4, 5, 6, 7]\n",
    "#  0, 1, 2, 3, 4\n",
    "#  -5,-4,-3,-2,-1\n",
    "\n",
    "#반복문\n",
    "for i in a:\n",
    "    print(i,end=\" \")   # end(\" \")가로 줄로 만듬 \n",
    "print()\n",
    "for i,j in enumerate(a): # \n",
    "    print(i,j,end=\" ,\")\n",
    "print(type(a))"
   ]
  },
  {
   "cell_type": "code",
   "execution_count": 75,
   "metadata": {},
   "outputs": [
    {
     "name": "stdout",
     "output_type": "stream",
     "text": [
      "<class 'dict'>\n",
      "{'name': 'Lee', 'age': 30, 'add': '부산'}\n",
      "30\n"
     ]
    }
   ],
   "source": [
    "# 딕셔너리는 키와 값으로 이루어져있음\n",
    "# 값을 꺼낼때 key를 이용해서 꺼냄 JSON, XML 웹에서 데이터 수집때 사용\n",
    "a={\"name\": \"Lee\",\"age\":30,\"add\":\"부산\"}\n",
    "print(type(a))\n",
    "print(a)\n",
    "print(a['age']) #해당 키를 입력하면 값이 출력"
   ]
  },
  {
   "cell_type": "code",
   "execution_count": 85,
   "metadata": {},
   "outputs": [
    {
     "name": "stdout",
     "output_type": "stream",
     "text": [
      "<class 'str'>\n",
      "용인 Chang\n",
      "25 부산\n"
     ]
    }
   ],
   "source": [
    "# 리스트의 입장에서 3개 [{},{},{}]\n",
    "a=[{\"name\": \"Lee\",\"age\":15,\"add\":\"용인\"},\n",
    "  {\"name\": \"Chang\",\"age\":20,\"add\":\"속초\"},\n",
    "  {\"name\": \"Hwan\",\"age\":25,\"add\":\"부산\"}]\n",
    "print(type(a[0]['add']))\n",
    "\n",
    "# 용인과 Chang을 출력하시오\n",
    "print(a[0]['add'],a[1]['name'])\n",
    "print(a[2]['age'],a[2]['add'])"
   ]
  },
  {
   "cell_type": "code",
   "execution_count": 90,
   "metadata": {},
   "outputs": [
    {
     "name": "stdout",
     "output_type": "stream",
     "text": [
      "4\n",
      "<class 'int'>\n",
      "<class 'list'>\n"
     ]
    }
   ],
   "source": [
    "a={\"ret\":[2,3,4,5]}\n",
    "print(a['ret'][2])\n",
    "print(type(a['ret'][2]))\n",
    "print(type(a['ret']))"
   ]
  },
  {
   "cell_type": "code",
   "execution_count": 101,
   "metadata": {},
   "outputs": [
    {
     "name": "stdout",
     "output_type": "stream",
     "text": [
      "[{'name': '가나다', 'age': 34}, {'name': '가나다', 'age': 23}]\n",
      "<class 'list'>\n",
      "가나다\n",
      "4\n",
      "5\n"
     ]
    }
   ],
   "source": [
    "a=[]\n",
    "a.append({\"name\":\"가나다\",\"age\":34})\n",
    "a.append({\"name\":\"가나다\",\"age\":23})\n",
    "print(a)\n",
    "print(type(a))\n",
    "\n",
    "# 가나다와 4, 5를 출력하시오.\n",
    "b={\"ret\":{\"abc\":[1,3,4,5]},\"name\":\"가나다\"}\n",
    "print(b[\"name\"])\n",
    "print(b[\"ret\"][\"abc\"][2])\n",
    "print(b[\"ret\"][\"abc\"][3])"
   ]
  },
  {
   "cell_type": "code",
   "execution_count": 118,
   "metadata": {},
   "outputs": [
    {
     "name": "stdout",
     "output_type": "stream",
     "text": [
      "# 우리 동네 애완동물들\n",
      "구름 5 살\n",
      "초코 3\n",
      "아지 1\n",
      "호랑이 1\n"
     ]
    }
   ],
   "source": [
    "# p.171 문제 2번\n",
    "pets=[{\"name\":\"구름\",\"age\":5},\n",
    "      {\"name\":\"초코\",\"age\":3},\n",
    "      {\"name\":\"아지\",\"age\":1},\n",
    "      {\"name\":\"호랑이\",\"age\":1},\n",
    "]\n",
    "print(\"# 우리 동네 애완동물들\")\n",
    "print(pets[0][\"name\"],pets[0][\"age\"],\"살\")\n",
    "print(pets[1][\"name\"],pets[1][\"age\"])\n",
    "print(pets[2][\"name\"],pets[2][\"age\"])\n",
    "print(pets[3][\"name\"],pets[3][\"age\"])"
   ]
  },
  {
   "cell_type": "markdown",
   "metadata": {},
   "source": [
    "## 오후"
   ]
  },
  {
   "cell_type": "code",
   "execution_count": 1,
   "metadata": {},
   "outputs": [
    {
     "name": "stdout",
     "output_type": "stream",
     "text": [
      "<class 'dict'>\n",
      "{'ret': {'id': 'a386', 'name': '123', 'age': 34}, 'ret1': {'id': 'a383', 'name': '123', 'age': 36}}\n",
      "[['a386', '123', 34], ['a383', '123', 36]]\n"
     ]
    }
   ],
   "source": [
    "import json\n",
    "import requests\n",
    "\n",
    "# 서버 주소\n",
    "url=\"http://ihongss.com/json/exam2.json\"\n",
    "# 서버에서 값을 받음\n",
    "str1=requests.get(url).text\n",
    "# 문자를 python 자료형으로 변환\n",
    "dic=json.loads(str1)\n",
    "\n",
    "print(type(dic)) #타입 확인\n",
    "print(dic) # 자료 확인\n",
    "\n",
    "#id, name, age를 [{, ,}, {, ,}]\n",
    "a=[] # 빈 리스트를 생성함\n",
    "a.append([dic['ret']['id'],dic['ret']['name'],dic['ret']['age']]) # a에 dic 값을 추가함\n",
    "a.append([dic['ret1']['id'],dic['ret1']['name'],dic['ret1']['age']])\n",
    "print(a) "
   ]
  },
  {
   "cell_type": "code",
   "execution_count": 32,
   "metadata": {},
   "outputs": [
    {
     "name": "stdout",
     "output_type": "stream",
     "text": [
      "<class 'dict'>\n",
      "{'ret': [{'id': 'a2001', 'name': '123', 'age': 34}, {'id': 'a2002', 'name': '123', 'age': 54}, {'id': 'a2003', 'name': '123', 'age': 36}, {'id': 'a2004', 'name': '123', 'age': 38}], 'ret1': [{'id': 'a2005', 'name': '123', 'age': 17}, {'id': 'a2006', 'name': '123', 'age': 52}, {'id': 'a2007', 'name': '123', 'age': 33}]}\n",
      "a2001 123 34\n",
      "a2002 123 54\n",
      "a2003 123 36\n",
      "a2004 123 38\n",
      "a2005 123 17\n",
      "a2006 123 52\n",
      "a2007 123 33\n",
      "[['a2001', '123', 34], ['a2002', '123', 54], ['a2003', '123', 36], ['a2004', '123', 38], ['a2005', '123', 17], ['a2006', '123', 52], ['a2007', '123', 33]]\n",
      "==============================\n",
      "['a2002', '123', 54]\n",
      "['a2006', '123', 52]\n"
     ]
    }
   ],
   "source": [
    "import json\n",
    "import requests\n",
    "\n",
    "url=\"http://ihongss.com/json/exam3.json\"\n",
    "str1=requests.get(url).text # 문자열\n",
    "dic=json.loads(str1)\n",
    "\n",
    "print(type(dic))\n",
    "print(dic) #{'ret':[{}, {}, {}]}\n",
    "a1=[]\n",
    "a=dic['ret']# [{}, {}, {}]\n",
    "for i in a: # 반복해서 출력\n",
    "    print(i['id'],i['name'],i['age']) # type dic\n",
    "    a1.append([i['id'],i['name'],i['age']]) # 반복되는 구문의 값을 a1에 추가하여 출력해나감\n",
    "b=dic['ret1']\n",
    "for i in b:\n",
    "    print(i['id'],i['name'],i['age'])\n",
    "    a1.append([i['id'],i['name'],i['age']]) \n",
    "print(a1)\n",
    "print(\"=\"*30)\n",
    "for t in a1: # 7번 반복\n",
    "    if t[2]>=40:\n",
    "        print(t) #[아이디, 이름, 나이]\n",
    "   "
   ]
  },
  {
   "cell_type": "code",
   "execution_count": 173,
   "metadata": {},
   "outputs": [
    {
     "name": "stdout",
     "output_type": "stream",
     "text": [
      "[{'id': 'a', 'name': '가나다1', 'age': 61, 'height': 165.4, 'weight': 60.2}, {'id': 'b', 'name': '가나다2', 'age': 32, 'height': 185.4, 'weight': 80.3}, {'id': 'c', 'name': '가나다3', 'age': 13, 'height': 145.8, 'weight': 60.6}, {'id': 'd', 'name': '가나다4', 'age': 44, 'height': 165.7, 'weight': 44.5}, {'id': 'e', 'name': '가나다5', 'age': 85, 'height': 165.2, 'weight': 42.3}]\n",
      "a 가나다1 61 165.4 60.2\n",
      "b 가나다2 32 185.4 80.3\n",
      "c 가나다3 13 145.8 60.6\n",
      "d 가나다4 44 165.7 44.5\n",
      "e 가나다5 85 165.2 42.3\n",
      "==============================\n",
      "['a', '가나다1', 61, 165.4, 60.2]\n",
      "['b', '가나다2', 32, 185.4, 80.3]\n"
     ]
    }
   ],
   "source": [
    "# EXAM 7번\n",
    "\n",
    "import json\n",
    "import requests\n",
    "\n",
    "url=\"http://ihongss.com/json/exam7.json\"\n",
    "str1=requests.get(url).text # 문자열\n",
    "dic=json.loads(str1)\n",
    "#print(dic)\n",
    "\n",
    "# 2차원 리스트 만드세요 {}, {}, {}, {}, {}\n",
    "# 키가 160 이상 몸무게가 60이상인 사람 만 출력\n",
    "a=dic['data']\n",
    "print(a)\n",
    "\n",
    "a1=[]\n",
    "for i in a:\n",
    "    print(i['id'],i['name'],i['age'],i['height'],i['weight'])\n",
    "    a1.append([i['id'],i['name'],i['age'],i['height'],i['weight']]) # 빈 리스트에 추가하여 새로운 리스트로 만들어줌\n",
    "print('='*30)\n",
    "for t in a1:\n",
    "    if t[3]>=160 and t[4]>=60: # height와 weight에 해당하는 인덱스 값을 불러와서 크기 비교\n",
    "        print(t)"
   ]
  },
  {
   "cell_type": "code",
   "execution_count": 8,
   "metadata": {},
   "outputs": [
    {
     "name": "stdout",
     "output_type": "stream",
     "text": [
      "[[31], [32], [33], [34], [35]]\n",
      "1110\n",
      "50\n",
      "90\n",
      "50\n"
     ]
    }
   ],
   "source": [
    "# exam 10번 \n",
    "# id 끼리, name끼리,  \n",
    "import json\n",
    "import requests\n",
    "\n",
    "url=\"http://ihongss.com/json/exam10.json\"\n",
    "str1=requests.get(url).text # 문자열\n",
    "dic=json.loads(str1)\n",
    "a=dic['data']\n",
    "a1=[]\n",
    "a2=[]\n",
    "a3=[]\n",
    "a4=[]\n",
    "a5=[]\n",
    "a6=[]\n",
    "a7=[]\n",
    "for i in a:\n",
    "    a1.append([i['id']])\n",
    "#print(a1)\n",
    "for i in a:\n",
    "    a2.append([i['name']])\n",
    "##print(a2)\n",
    "for i in a:\n",
    "    a3.append([i['age']])\n",
    "print(a3)\n",
    "for i in a:\n",
    "    a4.append([i['score']])\n",
    "    a5.append(i['score']['math'])\n",
    "    a5.append(i['score']['eng'])\n",
    "    a5.append(i['score']['kor'])\n",
    "#print(a4)\n",
    "b= []\n",
    "b.append(a1)\n",
    "b.append(a2)\n",
    "b.append(a3)\n",
    "b.append(a4)\n",
    "b.append(a5)\n",
    "b.append(a6)\n",
    "b.append(a7)\n",
    "#print(b)\n",
    "\n",
    "print(sum(b[4]))\n",
    "print(min(b[4]))\n",
    "print(max(b[4]))\n",
    "print(a4[0][0]['math'])"
   ]
  },
  {
   "cell_type": "code",
   "execution_count": 137,
   "metadata": {},
   "outputs": [
    {
     "name": "stdout",
     "output_type": "stream",
     "text": [
      "{1: 1, 6: 1, 3: 3, 4: 2, 5: 1, 2: 1}\n"
     ]
    }
   ],
   "source": [
    "# p.172 \n",
    "numbers=[1,6,3,4,5,2,3,3,4]\n",
    "counter={}\n",
    "\n",
    "for number in numbers: # 5번 반복\n",
    "    if number in counter: # in 연산자 number가 counter 안에 있는지?\n",
    "        counter[number]=counter[number]+1\n",
    "    else:\n",
    "        counter[number]=1\n",
    "print(counter)"
   ]
  },
  {
   "cell_type": "code",
   "execution_count": 7,
   "metadata": {},
   "outputs": [
    {
     "name": "stdout",
     "output_type": "stream",
     "text": [
      "Requirement already satisfied: mongo in c:\\programdata\\anaconda3\\lib\\site-packages (0.2.0)\n",
      "Requirement already satisfied: pymongo in c:\\programdata\\anaconda3\\lib\\site-packages (from mongo) (3.10.1)\n"
     ]
    }
   ],
   "source": [
    "! pip install mongo"
   ]
  },
  {
   "cell_type": "code",
   "execution_count": 7,
   "metadata": {
    "scrolled": true
   },
   "outputs": [
    {
     "name": "stderr",
     "output_type": "stream",
     "text": [
      "C:\\ProgramData\\Anaconda3\\lib\\site-packages\\ipykernel_launcher.py:8: DeprecationWarning: insert is deprecated. Use insert_one or insert_many instead.\n",
      "  \n"
     ]
    },
    {
     "data": {
      "text/plain": [
       "[ObjectId('5f040043013d4bc628e23b12'), ObjectId('5f040043013d4bc628e23b13')]"
      ]
     },
     "execution_count": 7,
     "metadata": {},
     "output_type": "execute_result"
    }
   ],
   "source": [
    "import pymongo\n",
    "\n",
    "conn = pymongo.MongoClient('192.168.99.100',32767)\n",
    "db = conn.get_database(\"db1\") # db1생성\n",
    "table = db.get_collection(\"test1\") # collection 생성\n",
    "\n",
    "dict1 = [{\"id\":\"c\",\"age\":35},{\"id\":\"a\",\"age\":25}] # 추가할 자료 만들기 여러개 할때는 리스트 안에 딕셔너리 모양으로 [{}, {}, {}]\n",
    "table.insert_many(dict1) #  DB에 여러개 추가하기\n"
   ]
  },
  {
   "cell_type": "code",
   "execution_count": 3,
   "metadata": {},
   "outputs": [
    {
     "name": "stdout",
     "output_type": "stream",
     "text": [
      "['문자열', True]\n"
     ]
    }
   ],
   "source": [
    "list_a=[273,32,103,\"문자열\",True,False]\n",
    "print(list_a[3:5])"
   ]
  },
  {
   "cell_type": "code",
   "execution_count": 9,
   "metadata": {
    "scrolled": true
   },
   "outputs": [
    {
     "name": "stdout",
     "output_type": "stream",
     "text": [
      "[{'id': 'a', 'name': '가나다1', 'age': 61, 'height': 165.4, 'weight': 60.2}]\n",
      "[{'id': 'a', 'name': '가나다1', 'age': 61, 'height': 165.4, 'weight': 60.2}, {'id': 'b', 'name': '가나다2', 'age': 32, 'height': 185.4, 'weight': 80.3}]\n",
      "[{'id': 'a', 'name': '가나다1', 'age': 61, 'height': 165.4, 'weight': 60.2}, {'id': 'b', 'name': '가나다2', 'age': 32, 'height': 185.4, 'weight': 80.3}, {'id': 'c', 'name': '가나다3', 'age': 13, 'height': 145.8, 'weight': 60.6}]\n",
      "[{'id': 'a', 'name': '가나다1', 'age': 61, 'height': 165.4, 'weight': 60.2}, {'id': 'b', 'name': '가나다2', 'age': 32, 'height': 185.4, 'weight': 80.3}, {'id': 'c', 'name': '가나다3', 'age': 13, 'height': 145.8, 'weight': 60.6}, {'id': 'd', 'name': '가나다4', 'age': 44, 'height': 165.7, 'weight': 44.5}]\n",
      "[{'id': 'a', 'name': '가나다1', 'age': 61, 'height': 165.4, 'weight': 60.2}, {'id': 'b', 'name': '가나다2', 'age': 32, 'height': 185.4, 'weight': 80.3}, {'id': 'c', 'name': '가나다3', 'age': 13, 'height': 145.8, 'weight': 60.6}, {'id': 'd', 'name': '가나다4', 'age': 44, 'height': 165.7, 'weight': 44.5}, {'id': 'e', 'name': '가나다5', 'age': 85, 'height': 165.2, 'weight': 42.3}]\n"
     ]
    },
    {
     "name": "stderr",
     "output_type": "stream",
     "text": [
      "C:\\ProgramData\\Anaconda3\\lib\\site-packages\\ipykernel_launcher.py:19: DeprecationWarning: insert is deprecated. Use insert_one or insert_many instead.\n"
     ]
    },
    {
     "data": {
      "text/plain": [
       "[ObjectId('5f040e33013d4bc628e23b15'),\n",
       " ObjectId('5f040e33013d4bc628e23b16'),\n",
       " ObjectId('5f040e33013d4bc628e23b17'),\n",
       " ObjectId('5f040e33013d4bc628e23b18'),\n",
       " ObjectId('5f040e33013d4bc628e23b19')]"
      ]
     },
     "execution_count": 9,
     "metadata": {},
     "output_type": "execute_result"
    }
   ],
   "source": [
    "import json\n",
    "import requests\n",
    "import pymongo\n",
    "#\n",
    "url=\"http://ihongss.com/json/exam7.json\"\n",
    "str1=requests.get(url).text # 문자열\n",
    "dic=json.loads(str1)\n",
    "\n",
    "conn = pymongo.MongoClient('192.168.99.100',32767)\n",
    "db = conn.get_database(\"db1\") # db1생성\n",
    "table = db.get_collection(\"test2\") #collection 생성\n",
    "\n",
    "a=dic['data']\n",
    "a1=[]\n",
    "#print(a)\n",
    "for i in a:\n",
    "    a1.append({'id':i['id'],'name':i['name'],'age':i['age'],'height':i['height'],'weight':i['weight']})\n",
    "    print(a1)\n",
    "table.insert(a1)"
   ]
  },
  {
   "cell_type": "code",
   "execution_count": 8,
   "metadata": {},
   "outputs": [
    {
     "name": "stdout",
     "output_type": "stream",
     "text": [
      "이름을 입력하시오:dlckdghks\n",
      "전화번호를 입력하시오 :dldl\n",
      "주소를 입력하시오:ddl\n",
      "나이를 입력하시오:dldl\n",
      "이름을 입력하시오:dldl\n",
      "전화번호를 입력하시오 :dldld\n",
      "주소를 입력하시오:ld\n",
      "나이를 입력하시오:ld\n",
      "이름을 입력하시오:ld\n",
      "전화번호를 입력하시오 :ldl\n",
      "주소를 입력하시오:ldldld\n",
      "나이를 입력하시오:ldl\n",
      "[{'name': 'dlckdghks', 'tel': 'dldl', 'addr': 'ddl', 'age': 'dldl'}, {'name': 'dldl', 'tel': 'dldld', 'addr': 'ld', 'age': 'ld'}, {'name': 'ld', 'tel': 'ldl', 'addr': 'ldldld', 'age': 'ldl'}]\n"
     ]
    }
   ],
   "source": [
    "friends = []\n",
    "\n",
    "for i in range (0,3,1) :\n",
    "    friends.append({'name': input('이름을 입력하시오:'), 'tel':input('전화번호를 입력하시오 :'), 'addr': input('주소를 입력하시오:'), 'age':input('나이를 입력하시오:')})\n",
    "\n",
    "print(friends)"
   ]
  },
  {
   "cell_type": "code",
   "execution_count": null,
   "metadata": {},
   "outputs": [],
   "source": []
  }
 ],
 "metadata": {
  "kernelspec": {
   "display_name": "Python 3",
   "language": "python",
   "name": "python3"
  },
  "language_info": {
   "codemirror_mode": {
    "name": "ipython",
    "version": 3
   },
   "file_extension": ".py",
   "mimetype": "text/x-python",
   "name": "python",
   "nbconvert_exporter": "python",
   "pygments_lexer": "ipython3",
   "version": "3.7.6"
  }
 },
 "nbformat": 4,
 "nbformat_minor": 4
}

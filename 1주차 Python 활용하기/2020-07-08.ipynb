{
 "cells": [
  {
   "cell_type": "code",
   "execution_count": null,
   "metadata": {},
   "outputs": [],
   "source": [
    "#"
   ]
  },
  {
   "cell_type": "code",
   "execution_count": 4,
   "metadata": {},
   "outputs": [
    {
     "name": "stdout",
     "output_type": "stream",
     "text": [
      "hello\n",
      "hel\n",
      "hel\n",
      "hl\n",
      "olleh\n"
     ]
    }
   ],
   "source": [
    "# 문자열 리스트 만들기\n",
    "str2='hello'\n",
    "\n",
    "print(str2)\n",
    "print(str2[0:3]) # 0,1,2\n",
    "print(str2[:-2]) # 0,1,2\n",
    "print(str2[0:3:2]) # 시작, 끝, 스텝  0,2\n",
    "print(str2[::-1]) # 뒤집기\n"
   ]
  },
  {
   "cell_type": "code",
   "execution_count": 21,
   "metadata": {},
   "outputs": [
    {
     "name": "stdout",
     "output_type": "stream",
     "text": [
      "<class 'str'>\n",
      "abc,dfe,kkk\n",
      "<class 'list'>\n",
      "['bbb', 'aaa', 'ccc']\n",
      "h\n",
      "e\n",
      "l\n",
      "l\n",
      "o\n"
     ]
    }
   ],
   "source": [
    "# 리스트를 하나의 문자로 합치기\n",
    "str1=[\"abc\",\"dfe\",\"kkk\"]\n",
    "str1=\",\".join(str1)\n",
    "print(type(str1))\n",
    "print(str1)\n",
    "\n",
    "# 문자열을 리스트로 나누기 # ~.split(\" \")\n",
    "str1='bbb aaa ccc'\n",
    "arr=str.split(\" \")\n",
    "print(type(arr))\n",
    "print(arr)\n",
    "\n",
    "# 문자열 반복문\n",
    "a='hello'\n",
    "for i in a:\n",
    "    print(i)"
   ]
  },
  {
   "cell_type": "code",
   "execution_count": 22,
   "metadata": {},
   "outputs": [
    {
     "data": {
      "text/plain": [
       "7"
      ]
     },
     "execution_count": 22,
     "metadata": {},
     "output_type": "execute_result"
    }
   ],
   "source": [
    "# 문제: 문자열 한개를 입력받아서 a의 갯수가 몇개인지 출력하시오.\n",
    "a1='aaaaabbaa'\n",
    "a1.count('a')"
   ]
  },
  {
   "cell_type": "code",
   "execution_count": 23,
   "metadata": {},
   "outputs": [
    {
     "name": "stdout",
     "output_type": "stream",
     "text": [
      "3\n"
     ]
    }
   ],
   "source": [
    "##############\n",
    "b = \"aaabcde\"\n",
    "c = 0\n",
    "for i in b:\n",
    "    if i == 'a': \n",
    "        c=c+1\n",
    "print(c)"
   ]
  },
  {
   "cell_type": "code",
   "execution_count": 12,
   "metadata": {},
   "outputs": [
    {
     "name": "stdout",
     "output_type": "stream",
     "text": [
      "['aaa', 'naver.com']\n",
      "naver.com@aaa\n"
     ]
    }
   ],
   "source": [
    "# 문제: 문자열을 이메일로 포멧으로 받아서 순서를 변경하시오.\n",
    "#ex) aaa@naver.com => naver.com@aaa\n",
    "\n",
    "a=\"aaa@naver.com\"\n",
    "b=a.split(\"@\") # @를 중심으로 나누고 리스트로 만듬\n",
    "print(b)\n",
    "c= b[1]+\"@\"+b[0]\n",
    "print(c)"
   ]
  },
  {
   "cell_type": "code",
   "execution_count": 28,
   "metadata": {},
   "outputs": [
    {
     "name": "stdout",
     "output_type": "stream",
     "text": [
      "Y\n"
     ]
    }
   ],
   "source": [
    "#문제 : 문자열을 입력받아서 앞뒤가 같은 문자(대칭)인지 판별하시오.\n",
    "#ex) abcba => yes  abccba => yes    abcaa => no\n",
    "\n",
    "str1 = \"abcba\"\n",
    "str2 = str1[::-1] # 뒤집기\n",
    "\n",
    "if str1 == str2:\n",
    "    print(\"Y\")\n",
    "else:    \n",
    "    print(\"N\")"
   ]
  },
  {
   "cell_type": "code",
   "execution_count": 18,
   "metadata": {},
   "outputs": [
    {
     "name": "stdout",
     "output_type": "stream",
     "text": [
      "문자열입력?aaadddeeede\n",
      "a3d3e3d1e1\n",
      "1\n"
     ]
    }
   ],
   "source": [
    "#문제 : 문자열을 입력받아서 아래와 같은 포멧으로 출력하시오. \n",
    "#ex) aaabddfeffff  => a3b1d2f1e1f4\n",
    "\n",
    "data = input('문자열입력?')\n",
    "result = ''  #결과를 보관할 변수\n",
    "count = 1\n",
    "\n",
    "for i in range(1,len(data)) :\n",
    "    if(data[i-1] == data[i]) : # 앞문자와 뒷문자가 동일하면 1씩 더함\n",
    "        count += 1\n",
    "    else :      # 다르면 기존의 문자와 count를 합한 문자로 출력\n",
    "        result += data[i-1] + str(count) # int형 count를 문자형으로 변환\n",
    "        count = 1\n",
    "\n",
    "    if i == len(data)-1 : #마지막 부분은 비교할 대상이 없기 때문에 그대로 출력\n",
    "        result += data[i] + str(count)\n",
    "\n",
    "print(result)\n",
    "print(str(count))"
   ]
  },
  {
   "cell_type": "code",
   "execution_count": 26,
   "metadata": {},
   "outputs": [
    {
     "name": "stdout",
     "output_type": "stream",
     "text": [
      "<class 'list'>\n"
     ]
    },
    {
     "data": {
      "text/plain": [
       "<pymongo.results.InsertManyResult at 0x7f9692b0d2d0>"
      ]
     },
     "execution_count": 26,
     "metadata": {},
     "output_type": "execute_result"
    }
   ],
   "source": [
    "import requests\n",
    "import json\n",
    "import pymongo\n",
    "\n",
    "# 웹데이터 가져오기\n",
    "url =\"http://ihongss.com/json/exam20.json\"\n",
    "str1 = requests.get(url).text\n",
    "dic = json.loads(str1)\n",
    "\n",
    "# 가져온값 저장하기\n",
    "conn = pymongo.MongoClient('192.168.99.100',32767) #docker 서버 접속\n",
    "db = conn.get_database(\"db1\") # db1생성\n",
    "table = db.get_collection(\"exam20\") #collection 생성\n",
    "print(type(dic))\n",
    "a1=[]\n",
    "for i in dic:\n",
    "    b=i['cost'].split(\",\")\n",
    "    #print(b)\n",
    "    c=[int(i) for i in b] #b의 값을 int 형으로 바꿔줌 =list(map(int,b))\n",
    "    #print(c)\n",
    "    e=sum(c)\n",
    "    d=e/12\n",
    "    \n",
    "    #print({'code':i['code'],'name':i['name'],'cost':i['cost']})\n",
    "    a1.append({'code':i['code'],'name':i['name'],'january':b[0],'february':b[1],'march':b[2],'april':b[3],'may':b[4],'june':b[5],'july':b[6],'august':b[7],'september':b[8],'october':b[9],'november':b[10],'december':b[11],'sum':e,'avg':d})\n",
    "#print(a1)\n",
    "table.insert_many(a1)  #추가하기"
   ]
  },
  {
   "cell_type": "code",
   "execution_count": 27,
   "metadata": {},
   "outputs": [],
   "source": [
    "#data1 = table.find({},{'_id':False}) # 데이터 가져오기\n",
    "for i in data1:\n",
    "    print(i)"
   ]
  },
  {
   "cell_type": "code",
   "execution_count": 31,
   "metadata": {},
   "outputs": [
    {
     "name": "stdout",
     "output_type": "stream",
     "text": [
      "(0, 13)\n",
      "011-0000-0000\n"
     ]
    }
   ],
   "source": [
    "# 정규표현식\n",
    "import re\n",
    "\n",
    "# 전화번호\n",
    "b=re.match('^[0-1]{3}-[0-9]{4}-[0-9]{4}$','011-0000-0000') # ^(시작) [0부터1사이] {3}개 - 0부터 9까지 {4}개 - 0부터 9까지 {4}개 $(끝)\n",
    "if b!=None:\n",
    "    print(b.span())\n",
    "    print(b.group())\n",
    "else:\n",
    "    print(\"None\")"
   ]
  },
  {
   "cell_type": "code",
   "execution_count": 18,
   "metadata": {},
   "outputs": [
    {
     "name": "stdout",
     "output_type": "stream",
     "text": [
      "(0, 17)\n",
      "dch9610@naver.com\n",
      "(0, 4)\n",
      "가나다라\n"
     ]
    }
   ],
   "source": [
    "import re\n",
    "\n",
    "# 이메일\n",
    "p = re.match( '^[a-zA-Z0-9+-_.]+@[a-zA-Z0-9-]+\\.[a-zA-Z0-9-.]+$', 'dch9610@naver.com' ) \n",
    "# [a-zA-Z0-9+_.]은 대,소문자, 숫자 다 사용가능 +는 앞에 부분이 한개 이상 써야한다.\n",
    "if p != None : \n",
    "    print(p.span())\n",
    "    print(p.group())\n",
    "else:\n",
    "    print(\"None\")  \n",
    "\n",
    "# 이름\n",
    "p1 = re.match( '^[가-힣]{2,4}$', '가나다라' ) \n",
    "# [가-힣]은 한글 문자, {2~4글자}\n",
    "if p1 != None : \n",
    "    print(p1.span())\n",
    "    print(p1.group())\n",
    "else:\n",
    "    print(\"None\")\n",
    "    \n",
    "# 시간 ^([0-2]{1}[0-9]|)"
   ]
  },
  {
   "cell_type": "code",
   "execution_count": 21,
   "metadata": {},
   "outputs": [
    {
     "name": "stdout",
     "output_type": "stream",
     "text": [
      "<class 'list'>\n",
      "[{'name': '나다라', 'email': 'abc@naver.com', 'date': '2019-05-10', 'time': '04:50:59', 'birth': '11/10/1998'}, {'name': '마바사', 'email': 'bbb@naver.com', 'date': '2019-05-10', 'time': '14:50:59', 'birth': '09/10/2019'}, {'name': '홍갈똥', 'email': 'abc@google.com', 'date': '2019-01-10', 'time': '14:50:59', 'birth': '09/10/1998'}, {'name': '마지막', 'email': 'def@daum.net', 'date': '2019-01-13', 'time': '14:50:59', 'birth': '10/10/1996'}, {'name': '마바사', 'email': 'ccccc@naver.com', 'date': '2019-01-10', 'time': '14:50:59', 'birth': '09/13/2019'}]\n"
     ]
    }
   ],
   "source": [
    "import requests\n",
    "import json\n",
    "import pymongo\n",
    "import re\n",
    "\n",
    "# 웹데이터 가져오기\n",
    "url =\"http://ihongss.com/json/exam18.json\"\n",
    "str1 = requests.get(url).text\n",
    "dic = json.loads(str1)\n",
    "# 가져온값 저장하기\n",
    "conn = pymongo.MongoClient('192.168.99.100',32767) #docker 서버 접속\n",
    "db = conn.get_database(\"db1\") # db1생성\n",
    "table = db.get_collection(\"exam18\") #collection 생성\n",
    "print(type(dic))\n",
    "#print(dic)\n",
    "a1=[]\n",
    "for i in dic:\n",
    "    \n",
    "    name=i['name']\n",
    "    email=i['email']\n",
    "    date=i['date']\n",
    "    time=i['time']\n",
    "    birth=i['birth']\n",
    "    \n",
    "    name1=re.match( '^[가-힣]{2,4}$', name )\n",
    "    if name1 != None:\n",
    "        name2=name1.group() # .group()은 match의 값만을 받아서 출력\n",
    "        #print(name2)\n",
    "    email1=re.match( '^[a-zA-Z0-9+-_.]+@[a-zA-Z0-9-]+\\.[a-zA-Z0-9-.]+$', email )\n",
    "    if email1 != None:\n",
    "        email2=email1.group()\n",
    "        #print(email2)\n",
    "    date1=re.match('^[1-2]{1}[0-9]{3}-[0-1]{1}[0-9]{1}-[0-2]{1}[0-9]{1}$',date)\n",
    "    if date1 != None:\n",
    "        date2=date1.group()\n",
    "        #print(date2)\n",
    "    time1=re.match('^([0-1]{1}[0-9]{1}|[0-2]{1}[0-3]{1}):[0-5]{1}[0-9]{1}:[0-5]{1}[0-9]{1}$',time) #( | ) or 조건\n",
    "    if time1 != None:\n",
    "        time2=time1.group()\n",
    "        #print(time2)\n",
    "    birth1=re.match('^[0-2]{1}[0-9]{1}/[0-1]{1}[0-9]{1}/[1-2]{1}[0-9]{2}[0-9]{1}$',birth)\n",
    "    if birth1 != None:\n",
    "        birth2=birth1.group()\n",
    "        #print(birth2)\n",
    "    if name1!=None and email1!=None and date1!=None or time1!=None and birth1!=None:\n",
    "            a1.append({'name':name2,'email':email2,'date':date2,'time':time2,'birth':birth2})\n",
    "print(a1)       \n",
    "#table.insert_many(a1)"
   ]
  },
  {
   "cell_type": "code",
   "execution_count": 168,
   "metadata": {},
   "outputs": [
    {
     "name": "stdout",
     "output_type": "stream",
     "text": [
      "속성 중에서 id값:  abc\n",
      "{'id': 'abc', 'class': ['bcd', 'def']}\n",
      "{}\n",
      "{}\n",
      "==============================\n",
      "\n"
     ]
    }
   ],
   "source": [
    "# 웹 html의 데이터를 가져옴\n",
    "from bs4 import BeautifulSoup\n",
    "import requests\n",
    "\n",
    "url = \"http://ihongss.com/resources/exam1.html\"\n",
    "str = requests.get(url)\n",
    "\n",
    "soup = BeautifulSoup(str.text, 'html.parser')\n",
    "\n",
    "a = soup.select_one(\"div\") # 첫번째 div를 찾는다. 리스트 타입\n",
    "a1= a.select(\"p\") \n",
    "for i in a1:\n",
    "    #print(i.text) #값을 가져옴\n",
    "    if i.get(\"id\"):\n",
    "        print(\"속성 중에서 id값: \",i.attrs['id'])\n",
    "    print(i.attrs) #딕셔너리 타입으로 속성 값을 가져옴\n",
    "#print(a1)\n",
    "\n",
    "print(\"=\"*30)\n",
    "print()\n",
    "\n",
    "b = soup.select(\"div\")\n",
    "#print(b) \n",
    "#print(b[0])"
   ]
  },
  {
   "cell_type": "code",
   "execution_count": 184,
   "metadata": {},
   "outputs": [
    {
     "name": "stdout",
     "output_type": "stream",
     "text": [
      "a\n",
      "\n",
      "b\n",
      "\n",
      "c\n",
      "\n",
      "\n",
      "a1\n",
      "\n",
      "b1\n",
      "\n",
      "c1\n",
      "\n",
      "\n",
      "a2\n",
      "\n",
      "b2\n",
      "\n",
      "c2\n",
      "\n",
      "\n"
     ]
    }
   ],
   "source": [
    "from bs4 import BeautifulSoup\n",
    "import requests\n",
    "\n",
    "url = \"http://ihongss.com/resources/exam1.html\"\n",
    "str = requests.get(url)\n",
    "soup = BeautifulSoup(str.text, 'html.parser')\n",
    "\n",
    "b=soup.select(\"div\")\n",
    "\n",
    "for i in b:\n",
    "    c=i.select(\"p\")\n",
    "    for j in c:\n",
    "        print(j.text)\n",
    "        print()\n",
    "        \n",
    "    #print(c)\n",
    "    #print(i)\n",
    "    print()"
   ]
  },
  {
   "cell_type": "code",
   "execution_count": 202,
   "metadata": {},
   "outputs": [
    {
     "name": "stdout",
     "output_type": "stream",
     "text": [
      "a\n",
      "b\n",
      "c\n",
      "span1\n",
      "\n",
      "a1 {'id': 'CCC'}\n",
      "b1\n",
      "c1\n",
      "span2\n",
      "\n",
      "d {'id': 'A'}\n",
      "e\n",
      "f\n",
      "\n",
      "g {'id': 'B'}\n",
      "h\n",
      "i\n",
      "h1_tag\n",
      "span3\n",
      "href_tag {'href': '#'}\n",
      "\n"
     ]
    }
   ],
   "source": [
    "from bs4 import BeautifulSoup\n",
    "import requests\n",
    "\n",
    "url = \"http://ihongss.com/resources/exam2.html\" # html 주소 가져오기\n",
    "str = requests.get(url) \n",
    "soup = BeautifulSoup(str.text, 'html.parser')\n",
    "a=soup.select(\"div\")\n",
    "\n",
    "for i in a: \n",
    "    #print(i)\n",
    "    #print()\n",
    "    b=i.select('p,span,h1,a') #변수 b에 div안에서 p,span,h1,a를 찾게끔 변수지정 \n",
    "    for j in b: # 'div' 중에 p, span, h1, a를 출력\n",
    "        if j.get('id') or j.get('href'): # 조건문 j가 딕셔너리 타입 'id'또는 'href' 를 가지고 있으면 j.text와 j.attrs를 출력\n",
    "            print(j.text,j.attrs)\n",
    "        else:\n",
    "            print(j.text)\n",
    "    print()"
   ]
  },
  {
   "cell_type": "code",
   "execution_count": 212,
   "metadata": {},
   "outputs": [
    {
     "name": "stdout",
     "output_type": "stream",
     "text": [
      "a\n",
      "{}\n",
      "b\n",
      "{}\n",
      "c\n",
      "{}\n",
      "a1\n",
      "{'id': 'CCC'}\n",
      "b1\n",
      "{}\n",
      "c1\n",
      "{}\n"
     ]
    }
   ],
   "source": [
    "# select_one == find   => 리스트가 아님\n",
    "# select == find_all   => 리스트로 반환됨\n",
    "from bs4 import BeautifulSoup\n",
    "import requests\n",
    "\n",
    "url = \"http://ihongss.com/resources/exam2.html\" # html 주소 가져오기\n",
    "str = requests.get(url) \n",
    "soup = BeautifulSoup(str.text, 'html.parser')\n",
    "\n",
    "c = soup.find_all(\"div\",{\"class\":\"first\"})   #1개 [  ]\n",
    "c = soup.select(\"div.first\")   # div#abc\n",
    "\n",
    "for tmp in c:\n",
    "    d = tmp.find_all(\"p\")\n",
    "    for e in d:\n",
    "        print(e.text)\n",
    "        print(e.attrs)"
   ]
  },
  {
   "cell_type": "code",
   "execution_count": 296,
   "metadata": {},
   "outputs": [
    {
     "name": "stdout",
     "output_type": "stream",
     "text": [
      "<p>드론, 날아다니는 것만 잘 봐도 조정자 위치 파악할 수 있다</p>\n",
      "<p>MS, 오피스 365 사용자 보호하기 위해 악성 도메인 무력화시켜</p>\n",
      "<p>제9회 정보보호의 날 기념식... 비대면 시대 보안은 선택 아닌 필수</p>\n",
      "<p>디지털포렌식 분야 제1호 국제공인시험기관 탄생했다! 주인공은 ‘경찰청’</p>\n",
      "<p>소프트웨어 산업 육성 방안, 어떤 논의 있었나 </p>\n",
      "\n"
     ]
    }
   ],
   "source": [
    "# select_one == find => 리스트가 아님\n",
    "# select == find_all => 리스트 형태로 출력\n",
    "from bs4 import BeautifulSoup\n",
    "import requests\n",
    "\n",
    "url = \"https://www.boannews.com/Default.asp\" # html 주소 가져오기\n",
    "str = requests.get(url) \n",
    "soup = BeautifulSoup(str.text, 'html.parser')\n",
    "a=soup.find(\"div\",id=\"headline0\")\n",
    "b=a.find_all(\"li\")\n",
    "#print(b)\n",
    "for i in b:\n",
    "    print(i.find(\"p\"))\n",
    "print()"
   ]
  },
  {
   "cell_type": "code",
   "execution_count": 51,
   "metadata": {},
   "outputs": [
    {
     "name": "stdout",
     "output_type": "stream",
     "text": [
      "[{'title[Rank]': '#살아있다'}, {'title[Rank]': '결백'}, {'title[Rank]': '소리꾼'}, {'title[Rank]': '반도'}, {'title[Rank]': '인베이젼 2020'}, {'title[Rank]': '사라진 시간'}, {'title[Rank]': '다크 나이트'}, {'title[Rank]': '온워드: 단 하루의 기적'}, {'title[Rank]': '트로이'}, {'title[Rank]': '강철비2: 정상회담'}, {'title[Rank]': '밤쉘: 세상을 바꾼 폭탄선언'}, {'title[Rank]': '야구소녀'}, {'title[Rank]': '침입자'}, {'title[Rank]': '위대한 쇼맨'}, {'title[Rank]': '그레텔과 헨젤'}, {'title[Rank]': '코드 8'}, {'title[Rank]': '딥워터'}, {'title[Rank]': '너와 파도를 탈 수 있다면'}, {'title[Rank]': '아무튼, 아담'}, {'title[Rank]': '다만 악에서 구하소서'}, {'title[Rank]': '다크 나이트 라이즈'}, {'title[Rank]': '비바리움'}, {'title[Rank]': '불량한 가족'}, {'title[Rank]': '해피 디 데이'}, {'title[Rank]': '테넷'}, {'title[Rank]': '나의 첫 번째 슈퍼스타'}, {'title[Rank]': '시,나리오'}, {'title[Rank]': '콜 미 바이 유어 네임'}, {'title[Rank]': '팡파레'}, {'title[Rank]': '부산행'}, {'title[Rank]': '모탈: 레전드 오브 토르'}, {'title[Rank]': '원 데이'}, {'title[Rank]': '소년시절의 너'}, {'title[Rank]': '코로나'}, {'title[Rank]': '우상'}, {'title[Rank]': '시티 오브 갓'}, {'title[Rank]': '열혈형사'}, {'title[Rank]': '엔딩스 비기닝스'}, {'title[Rank]': '시라이'}, {'title[Rank]': '피아노의 숲'}, {'title[Rank]': '로마 위드 러브'}, {'title[Rank]': '강철비'}, {'title[Rank]': '언더워터'}, {'title[Rank]': '암전'}, {'title[Rank]': '욕창'}, {'title[Rank]': '지푸라기라도 잡고 싶은 짐승들'}, {'title[Rank]': '컨택트 2020'}, {'title[Rank]': '가버나움'}, {'title[Rank]': '트랜짓'}, {'title[Rank]': '킹스맨: 퍼스트 에이전트'}]\n",
      "\n"
     ]
    }
   ],
   "source": [
    "## 네이버의 영화 목록 가져오기\n",
    "from bs4 import BeautifulSoup\n",
    "import requests\n",
    "import requests\n",
    "import json\n",
    "import pymongo\n",
    "\n",
    "url = \"https://movie.naver.com/movie/sdb/rank/rmovie.nhn?sel=cnt&date=20200708\" # html 주소 가져오기\n",
    "str = requests.get(url) \n",
    "soup = BeautifulSoup(str.text, 'html.parser')\n",
    "a1=soup.find(\"tbody\") # tbody를 불러옴\n",
    "a2=a1.find_all(\"td\",{\"class\":\"ac\"})#a1에 속한 모든 값을 찾아보고 class=ac에 속한것을 찾아냄\n",
    "t1=a1.find_all(\"div\",{\"class\":\"tit3\"})\n",
    "\n",
    "conn = pymongo.MongoClient('192.168.99.100',32767) #docker 서버 접속\n",
    "db = conn.get_database(\"db1\") # db1생성\n",
    "table = db.get_collection(\"movie\") #collection 생성\n",
    "b1=[]\n",
    "\n",
    "#print(t1)\n",
    "# for i in a2: ## 순위만 출력\n",
    "#     a3=i.find('img')#.attrs\n",
    "#     if a3 != None:\n",
    "#         a4=a3.attrs ## 딕셔너리 형태로 바꿔줌\n",
    "#         #print(a4)\n",
    "#         if a4.get('alt') and a4['alt'].isnumeric(): #숫자판별함수 isnumeric()\n",
    "#             a5=int(a4['alt'])\n",
    "#             print(a5)\n",
    "# print(\"-\"*50)\n",
    "\n",
    "for j in t1:\n",
    "    t2=j.find('a').attrs # 해당하는 부분(a)를 딕셔너리 형태로 바꿔줌 \n",
    "    t3=t2.get('title') # t2에 해당하는 title 부분만 출력 get()\n",
    "    #print(t3)\n",
    "    b1.append({'title[Rank]':t3}) # insert(0,{}) 반대로 뒤집어서 저장함 , 출력은 반대지만 저장은 원하는 순서대로 저장가능 \n",
    "print(b1)\n",
    "#print(\"-\"*50)    \n",
    "\n",
    "# for k in range(0,20,1): # 정해진 순위까지만 출력   \n",
    "#     t4=t1[k].find('a').attrs\n",
    "#     t5=t4.get('title')\n",
    "#     print(t5)\n",
    "# print(\"-\"*50)\n",
    "\n",
    "table.insert_many(b1)  #추가하기\n",
    "print()"
   ]
  },
  {
   "cell_type": "code",
   "execution_count": 5,
   "metadata": {},
   "outputs": [
    {
     "name": "stdout",
     "output_type": "stream",
     "text": [
      "#살아있다 /movie/bi/mi/basic.nhn?code=189537\n",
      "결백 /movie/bi/mi/basic.nhn?code=180378\n",
      "소리꾼 /movie/bi/mi/basic.nhn?code=189118\n",
      "반도 /movie/bi/mi/basic.nhn?code=185917\n",
      "인베이젼 2020 /movie/bi/mi/basic.nhn?code=193326\n",
      "사라진 시간 /movie/bi/mi/basic.nhn?code=179894\n",
      "다크 나이트 /movie/bi/mi/basic.nhn?code=62586\n",
      "온워드: 단 하루의 기적 /movie/bi/mi/basic.nhn?code=187351\n",
      "트로이 /movie/bi/mi/basic.nhn?code=37742\n",
      "강철비2: 정상회담 /movie/bi/mi/basic.nhn?code=188909\n",
      "밤쉘: 세상을 바꾼 폭탄선언 /movie/bi/mi/basic.nhn?code=191143\n",
      "야구소녀 /movie/bi/mi/basic.nhn?code=189633\n",
      "침입자 /movie/bi/mi/basic.nhn?code=182835\n",
      "위대한 쇼맨 /movie/bi/mi/basic.nhn?code=106360\n",
      "그레텔과 헨젤 /movie/bi/mi/basic.nhn?code=191567\n",
      "코드 8 /movie/bi/mi/basic.nhn?code=189712\n",
      "딥워터 /movie/bi/mi/basic.nhn?code=194409\n",
      "너와 파도를 탈 수 있다면 /movie/bi/mi/basic.nhn?code=186348\n",
      "아무튼, 아담 /movie/bi/mi/basic.nhn?code=194807\n",
      "다만 악에서 구하소서 /movie/bi/mi/basic.nhn?code=189069\n",
      "다크 나이트 라이즈 /movie/bi/mi/basic.nhn?code=72054\n",
      "비바리움 /movie/bi/mi/basic.nhn?code=187294\n",
      "불량한 가족 /movie/bi/mi/basic.nhn?code=194007\n",
      "해피 디 데이 /movie/bi/mi/basic.nhn?code=168031\n",
      "테넷 /movie/bi/mi/basic.nhn?code=190010\n",
      "나의 첫 번째 슈퍼스타 /movie/bi/mi/basic.nhn?code=193781\n",
      "시,나리오 /movie/bi/mi/basic.nhn?code=193054\n",
      "콜 미 바이 유어 네임 /movie/bi/mi/basic.nhn?code=158885\n",
      "팡파레 /movie/bi/mi/basic.nhn?code=186235\n",
      "부산행 /movie/bi/mi/basic.nhn?code=130966\n",
      "모탈: 레전드 오브 토르 /movie/bi/mi/basic.nhn?code=195107\n",
      "원 데이 /movie/bi/mi/basic.nhn?code=79770\n",
      "소년시절의 너 /movie/bi/mi/basic.nhn?code=192066\n",
      "코로나 /movie/bi/mi/basic.nhn?code=193851\n",
      "우상 /movie/bi/mi/basic.nhn?code=161984\n",
      "시티 오브 갓 /movie/bi/mi/basic.nhn?code=36651\n",
      "열혈형사 /movie/bi/mi/basic.nhn?code=186704\n",
      "엔딩스 비기닝스 /movie/bi/mi/basic.nhn?code=188991\n",
      "시라이 /movie/bi/mi/basic.nhn?code=187297\n",
      "피아노의 숲 /movie/bi/mi/basic.nhn?code=68498\n",
      "로마 위드 러브 /movie/bi/mi/basic.nhn?code=84917\n",
      "강철비 /movie/bi/mi/basic.nhn?code=155665\n",
      "언더워터 /movie/bi/mi/basic.nhn?code=160437\n",
      "암전 /movie/bi/mi/basic.nhn?code=177510\n",
      "욕창 /movie/bi/mi/basic.nhn?code=185151\n",
      "지푸라기라도 잡고 싶은 짐승들 /movie/bi/mi/basic.nhn?code=179181\n",
      "컨택트 2020 /movie/bi/mi/basic.nhn?code=194401\n",
      "가버나움 /movie/bi/mi/basic.nhn?code=174830\n",
      "트랜짓 /movie/bi/mi/basic.nhn?code=173247\n",
      "킹스맨: 퍼스트 에이전트 /movie/bi/mi/basic.nhn?code=159893\n"
     ]
    }
   ],
   "source": [
    "from bs4 import BeautifulSoup\n",
    "import requests\n",
    "import pymongo\n",
    "\n",
    "conn = pymongo.MongoClient('192.168.99.100',32767) #docker 서버 접속\n",
    "#conn = pymongo.MongoClient('localhost',27017)      #윈도우\n",
    "db = conn.get_database(\"db1\") # db1생성\n",
    "table = db.get_collection(\"movie1\") #collection 생성\n",
    "\n",
    "#soup.find_all  => 여러개   ====  #soup.select    => 검색\n",
    "#soup.find      => 첫번째것    ==== #soup.select_one => 검색\n",
    "url = \"https://movie.naver.com/movie/sdb/rank/rmovie.nhn?sel=cnt&date=20200708\"\n",
    "str = requests.get(url)\n",
    "\n",
    "soup = BeautifulSoup(str.text, 'html.parser')\n",
    "\n",
    "# find_all('태그명', {'속성명' : '값' ...})\n",
    "# all_div_tit3 = soup.find_all('div',{\"class\":\"tit3\"})\n",
    "all_div_tit3 = soup.select('div.tit3')\n",
    "\n",
    "for tmp in all_div_tit3:\n",
    "    b = tmp.find(\"a\")\n",
    "    if b.attrs.get(\"href\"):\n",
    "        print(b.text, b['href'])\n",
    "        table.insert_one({\"title\":b.text, \"href\":b['href']})"
   ]
  },
  {
   "cell_type": "code",
   "execution_count": null,
   "metadata": {},
   "outputs": [],
   "source": []
  }
 ],
 "metadata": {
  "kernelspec": {
   "display_name": "Python 3",
   "language": "python",
   "name": "python3"
  },
  "language_info": {
   "codemirror_mode": {
    "name": "ipython",
    "version": 3
   },
   "file_extension": ".py",
   "mimetype": "text/x-python",
   "name": "python",
   "nbconvert_exporter": "python",
   "pygments_lexer": "ipython3",
   "version": "3.7.6"
  }
 },
 "nbformat": 4,
 "nbformat_minor": 4
}

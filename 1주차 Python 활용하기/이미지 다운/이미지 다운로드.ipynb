{
 "cells": [
  {
   "cell_type": "markdown",
   "metadata": {},
   "source": [
    "## 이미지 다운로드 코드"
   ]
  },
  {
   "cell_type": "code",
   "execution_count": 9,
   "metadata": {},
   "outputs": [],
   "source": [
    "# 네이버에 검색해서 이미지 순서대로 받아오기\n",
    "\n",
    "from selenium import webdriver\n",
    "import urllib.request\n",
    "import time\n",
    "from selenium.webdriver.common.keys import Keys\n",
    "\n",
    "options = webdriver.ChromeOptions()\n",
    "#options.add_argument('headless') #화면 표시 X\n",
    "options.add_argument(\"disable-gpu\")   \n",
    "options.add_argument(\"lang=ko_KR\")    \n",
    "options.add_argument('user-agent=Mozilla/5.0 (Macintosh; Intel Mac OS X 10_12_6) AppleWebKit/537.36 (KHTML, like Gecko) Chrome/61.0.3163.100 Safari/537.36')  # user-agent \n",
    "\n",
    "driver = webdriver.Chrome(executable_path='./chromedriver', options=options)\n",
    "driver.get('https://naver.com')\n",
    "\n",
    "driver.find_element_by_xpath('//*[@id=\"query\"]').send_keys('호랑이') # 검색창에 입력\n",
    "driver.find_element_by_xpath('//*[@id=\"query\"]').send_keys(Keys.ENTER)\n",
    "\n",
    "#이미지 클릭\n",
    "driver.find_element_by_xpath('//*[@id=\"lnb\"]/div/div[1]/ul/li[2]/a/span').click()\n",
    "\n",
    "for i in range(1, 6, 1): # 1부터 5까지 반복\n",
    "    time.sleep(1) #1초 delay\n",
    "    try: \n",
    "        #첫번째 방법으로 실행해서 오류가 발생하면 except로 이동\n",
    "        img = driver.find_element_by_xpath('//*[@id=\"_sau_imageTab\"]/div[1]/div[2]/div['+ str(i) +']/a[1]/img')\n",
    "    except Exception as e:\n",
    "        #첫번째 방법으로 실패한 경우에 2번째 시도\n",
    "        img = driver.find_element_by_xpath('//*[@id=\"_sau_imageTab\"]/div[2]/div[2]/div['+ str(i) +']/a[1]/img')\n",
    "    \n",
    "    #src태그의 이미지 주소를 가져옴.    \n",
    "    file = img.get_attribute(\"src\")\n",
    "    \n",
    "    #이미지 주소를 이용하여 파일 다운로드\n",
    "    #urllib.request.urlretrieve(file, './tiger'+str(i)+\".jpg\") # 이름 변경하여 저장\n",
    "\n",
    "# 크롬 닫기\n",
    "#driver.close() "
   ]
  },
  {
   "cell_type": "code",
   "execution_count": 12,
   "metadata": {},
   "outputs": [],
   "source": [
    "# 구글에 검색해서 이미지 순서대로 받아오기\n",
    "\n",
    "from selenium import webdriver\n",
    "import urllib.request\n",
    "import time\n",
    "from selenium.webdriver.common.keys import Keys\n",
    "\n",
    "options = webdriver.ChromeOptions()\n",
    "#options.add_argument('headless') #화면 표시 X\n",
    "options.add_argument(\"disable-gpu\")   \n",
    "options.add_argument(\"lang=ko_KR\")    \n",
    "options.add_argument('user-agent=Mozilla/5.0 (Macintosh; Intel Mac OS X 10_12_6) AppleWebKit/537.36 (KHTML, like Gecko) Chrome/61.0.3163.100 Safari/537.36')  # user-agent \n",
    "\n",
    "driver = webdriver.Chrome(executable_path='./chromedriver', options=options)\n",
    "driver.get('https://google.com')\n",
    "\n",
    "driver.find_element_by_xpath('//*[@id=\"tsf\"]/div[2]/div[1]/div[1]/div/div[2]/input').send_keys('호랑이') # 검색창에 입력\n",
    "driver.find_element_by_xpath('//*[@id=\"tsf\"]/div[2]/div[1]/div[1]/div/div[2]/input').send_keys(Keys.ENTER)\n",
    "\n",
    "#이미지 부분 클릭\n",
    "driver.find_element_by_xpath('//*[@id=\"hdtb-msb-vis\"]/div[2]/a').click()\n",
    "\n",
    "for i in range(1, 6, 1): # 1부터 5까지 반복\n",
    "    time.sleep(1) #1초 delay\n",
    "    \n",
    "    try: \n",
    "        #첫번째 방법으로 실행해서 오류가 발생하면 except로 이동\n",
    "        img = driver.find_element_by_xpath('//*[@id=\"islrg\"]/div[1]/div['+ str(i) +']/a[1]/div[1]/img')\n",
    "\n",
    "    except Exception as e:\n",
    "        #첫번째 방법으로 실패한 경우에 2번째 시도\n",
    "        img = driver.find_element_by_xpath('//*[@id=\"islrg\"]/div[2]/div['+ str(i) +']/a[1]/div[1]/img')\n",
    "    \n",
    "    #src태그의 이미지 주소를 가져옴.    \n",
    "    file = img.get_attribute(\"src\")\n",
    "    \n",
    "    #이미지 주소를 이용하여 파일 다운로드\n",
    "    urllib.request.urlretrieve(file, './tiger1'+str(i)+\".jpg\") # 이름 변경하여 저장\n",
    "\n",
    "# 작업이 끝나면 크롬창 닫기\n",
    "driver.close() "
   ]
  },
  {
   "cell_type": "code",
   "execution_count": null,
   "metadata": {},
   "outputs": [],
   "source": []
  }
 ],
 "metadata": {
  "kernelspec": {
   "display_name": "Python 3",
   "language": "python",
   "name": "python3"
  },
  "language_info": {
   "codemirror_mode": {
    "name": "ipython",
    "version": 3
   },
   "file_extension": ".py",
   "mimetype": "text/x-python",
   "name": "python",
   "nbconvert_exporter": "python",
   "pygments_lexer": "ipython3",
   "version": "3.7.6"
  }
 },
 "nbformat": 4,
 "nbformat_minor": 4
}

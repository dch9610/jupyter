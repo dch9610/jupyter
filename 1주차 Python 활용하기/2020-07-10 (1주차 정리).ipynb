{
 "cells": [
  {
   "cell_type": "markdown",
   "metadata": {},
   "source": [
    "# 1주차 복습"
   ]
  },
  {
   "cell_type": "markdown",
   "metadata": {},
   "source": [
    "# 연산자"
   ]
  },
  {
   "cell_type": "code",
   "execution_count": 2,
   "metadata": {},
   "outputs": [
    {
     "name": "stdout",
     "output_type": "stream",
     "text": [
      "<class 'int'>\n",
      "11\n",
      "30\n",
      "-1\n",
      "0.8333333333333334\n",
      "5\n",
      "0\n",
      "125\n"
     ]
    }
   ],
   "source": [
    "#연산자\n",
    "\n",
    "a = 5\n",
    "b = 6\n",
    "print(type(a)) #타입확인\n",
    "\n",
    "print( a + b ) #합\n",
    "print( a * b) #곱\n",
    "print( a - b) #차\n",
    "print( a / b) #나누기\n",
    "print( a % b) #나머지\n",
    "print( a // b) #몫\n",
    "print( a ** 3 ) # 5*5*5\n"
   ]
  },
  {
   "cell_type": "markdown",
   "metadata": {},
   "source": [
    "# 조건문"
   ]
  },
  {
   "cell_type": "code",
   "execution_count": 3,
   "metadata": {},
   "outputs": [
    {
     "name": "stdout",
     "output_type": "stream",
     "text": [
      "숫자 입력: 89\n",
      "C\n",
      "E\n"
     ]
    }
   ],
   "source": [
    "# 조건문\n",
    "\n",
    "a= int(input(\"숫자 입력: \")) # input으로 입력받으면 str\n",
    "\n",
    "if a >= 90 and a <= 93:  # and, or,  not\n",
    "    print(\"A\")\n",
    "elif 80 <= a <= 85:\n",
    "    print(\"B\")\n",
    "elif a>=70:\n",
    "    print(\"C\")\n",
    "else:\n",
    "    print(\"D\")\n",
    "\n",
    "print(\"E\") "
   ]
  },
  {
   "cell_type": "markdown",
   "metadata": {},
   "source": [
    "# 리스트"
   ]
  },
  {
   "cell_type": "code",
   "execution_count": 13,
   "metadata": {},
   "outputs": [
    {
     "name": "stdout",
     "output_type": "stream",
     "text": [
      "33, 1, 33, 3, 4, 5, 6, \n",
      "33, 1, 33, 3, 4, 5, 6, \n",
      "0 33, 1 1, 2 33, 3 3, 4 4, 5 5, 6 6, \n",
      "2 4 6 8 \n",
      "2 4 6 8\n"
     ]
    }
   ],
   "source": [
    "# 리스트\n",
    "\n",
    "a=[1,2,3,4,5]\n",
    "\n",
    "a.append(6) # 뒤에 추가하기\n",
    "a.insert(0,33) # 앞에 추가하기\n",
    "\n",
    "a[2]=33 # 인덱스 2의 자리 값을 변환\n",
    "\n",
    "for i in a: # 반복문 i 변수에 리스트 값만 복사\n",
    "    print(i,end=\", \")\n",
    "print()\n",
    "\n",
    "for i in range(0,len(a),1): # 반복문 i 변수에 리스트 안에 속한 갯수 값만 복사\n",
    "    print(a[i],end=\", \")\n",
    "print()\n",
    "\n",
    "for i,t in enumerate(a): # 반복문 i,t변수에 위치와 값이 복사\n",
    "    print(i,t, end=\", \" )\n",
    "print()    \n",
    "    \n",
    "\n",
    "# 문제 : 2, 4, 6, 8만 출력하기\n",
    "b=[[1,2],[3,4],[5,6],[7,8]]\n",
    "\n",
    "for i in range(0, len(b),1): # 4번 반복\n",
    "    for j in range(0, len(b[i]),1): # 2번 반복\n",
    "        if j == 1: # if가 1인 것만 출력\n",
    "            print(b[i][j], end=\" \")\n",
    "print()    \n",
    "\n",
    "\n",
    "print(b[0][1],b[1][1],b[2][1],b[3][1])"
   ]
  },
  {
   "cell_type": "markdown",
   "metadata": {},
   "source": [
    "# 딕셔너리"
   ]
  },
  {
   "cell_type": "code",
   "execution_count": 1,
   "metadata": {},
   "outputs": [
    {
     "name": "stdout",
     "output_type": "stream",
     "text": [
      "{'name': '가나다', 'age': 25, 'addr': '부산'}\n",
      "<class 'dict'>\n",
      "<class 'list'>\n",
      "25\n",
      "0\n",
      "name, age, addr, \n",
      "------------------------------\n",
      "가나다, 25, 부산, \n",
      "------------------------------\n",
      "name 가나다\n",
      "age 25\n",
      "addr 부산\n"
     ]
    }
   ],
   "source": [
    "# 딕셔너리는 키와 값으로만 이루어져 있음\n",
    "# 값을 꺼낼때 key를 이용해서 꺼냄 JSON, XML\n",
    "\n",
    "a={\"name\":\"가나다\",\"age\":25,\"addr\":\"부산\"} # 개별로 할때는 {}형태\n",
    "b=[{\"name\":\"가나다\",\"age\":25,\"addr\":\"부산\"}, \n",
    "   {\"name\":\"가나다\",\"age\":25,\"addr\":\"서울\"},\n",
    "   {\"name\":\"가나다\",\"age\":25,\"addr\":\"부산\"}] # 다수의 형태는 [{}, {}, {}]\n",
    "\n",
    "print(a)\n",
    "print(type(a))\n",
    "print(type(b))\n",
    "print(a['age']) # 키가 없으면 오류발생\n",
    "print(a.get('age1',0)) # 키가 없어도 뒤에 적었던 값(0)으로 출력\n",
    "\n",
    "for i in a: # 키 반복\n",
    "    print(i,end=\", \")\n",
    "print()\n",
    "print(\"-\"*30)\n",
    "\n",
    "for i in a: # 값 반복\n",
    "    print(a[i], end=\", \")\n",
    "print()\n",
    "print(\"-\"*30)\n",
    "\n",
    "for key, value in a.items(): # 키랑 값을 다 출력\n",
    "    print(key, value)\n"
   ]
  },
  {
   "cell_type": "code",
   "execution_count": 40,
   "metadata": {},
   "outputs": [
    {
     "name": "stdout",
     "output_type": "stream",
     "text": [
      "<class 'list'>\n",
      "[{'name': '가나다', 'age': 15, 'addr': '부산'}, {'name': '나다라', 'age': 25, 'addr': '서울'}, {'name': '다라마', 'age': 35, 'addr': '용인'}]\n",
      "용인\n",
      "\n",
      "------------------------------\n",
      "<class 'dict'>\n",
      "{'name': ['가나다1', '나다라1', '다라마1'], 'age': [115, 125, 135], 'addr': ['용인1', '부산1', '서울1']}\n",
      "\n",
      "------------------------------\n",
      "가나다\n",
      "나다라\n",
      "다라마\n",
      "\n",
      "------------------------------\n",
      "{'name': ['가나다', '나다라', '다라마'], 'age': [15, 25, 35], 'addr': ['부산', '서울', '용인']}\n",
      "\n",
      "------------------------------\n"
     ]
    }
   ],
   "source": [
    "a=[{\"name\":\"가나다\",\"age\":15,\"addr\":\"부산\"}, \n",
    "   {\"name\":\"나다라\",\"age\":25,\"addr\":\"서울\"},\n",
    "   {\"name\":\"다라마\",\"age\":35,\"addr\":\"용인\"}] # 다수의 형태는 [{}, {}, {}]\n",
    "b={\"name\":[\"가나다1\",\"나다라1\",\"다라마1\"], \"age\":[115,125,135],\"addr\":[\"용인1\",\"부산1\",\"서울1\"]}\n",
    "a1=[]\n",
    "a2=[]\n",
    "a3=[]\n",
    "\n",
    "\n",
    "print(type(a))\n",
    "print(a)\n",
    "print(a[2]['addr'])\n",
    "print()\n",
    "print(\"-\"*30)\n",
    "\n",
    "print(type(b))\n",
    "print(b)\n",
    "print()\n",
    "print(\"-\"*30)\n",
    "\n",
    "for i in a: #\n",
    "    print(i['name'])\n",
    "print()\n",
    "print(\"-\"*30)\n",
    "    \n",
    "# a의 형식을 b 형식으로 만들기 [리스트 형식을 딕셔너리로 바꾸기]\n",
    "for j in a:\n",
    "    a1.append(j['name'])\n",
    "    a2.append(j['age'])\n",
    "    a3.append(j['addr'])    \n",
    "    b1={'name':a1,'age':a2,'addr':a3}\n",
    "    \n",
    "print(b1)\n",
    "print()\n",
    "print(\"-\"*30)"
   ]
  },
  {
   "cell_type": "markdown",
   "metadata": {},
   "source": [
    "# SET"
   ]
  },
  {
   "cell_type": "code",
   "execution_count": 41,
   "metadata": {},
   "outputs": [
    {
     "name": "stdout",
     "output_type": "stream",
     "text": [
      "{1, 2, 3, 4, 5}\n",
      "{1, 3}\n",
      "{4, 5}\n"
     ]
    }
   ],
   "source": [
    "# set 사용하기\n",
    "a={1,3,3,3,3,4,5}\n",
    "b=[1,2,3]\n",
    "a1=a\n",
    "a2=set(b) # 리스트를 set 타입으로 변경하기\n",
    "\n",
    "print(a1 | a2) # 합집합\n",
    "print(a1 & a2) # 교집합\n",
    "print(a1 - a2) # 차집합"
   ]
  },
  {
   "cell_type": "markdown",
   "metadata": {},
   "source": [
    "# 튜플"
   ]
  },
  {
   "cell_type": "code",
   "execution_count": 42,
   "metadata": {},
   "outputs": [
    {
     "name": "stdout",
     "output_type": "stream",
     "text": [
      "2, 2, 3, 4, 5, "
     ]
    }
   ],
   "source": [
    "# 튜플\n",
    "c=(2,2,3,4,5) # 값 변경 불가!!\n",
    "#c[3]=4 # 값을 변경할 수 없기때문에 오류가 발생한다.\n",
    "\n",
    "for i in c:\n",
    "    print(i,end=\", \")"
   ]
  },
  {
   "cell_type": "markdown",
   "metadata": {},
   "source": [
    "# 문자열"
   ]
  },
  {
   "cell_type": "code",
   "execution_count": 45,
   "metadata": {},
   "outputs": [
    {
     "name": "stdout",
     "output_type": "stream",
     "text": [
      "<class 'str'>\n",
      "abc,dfe,kkk\n",
      "------------------------------\n",
      "\n",
      "<class 'list'>\n",
      "['aaa', 'bbb', 'ccc']\n"
     ]
    }
   ],
   "source": [
    "# 리스트를 하나의 문자로 합치기\n",
    "str1 = [\"abc\", \"dfe\", \"kkk\"]   # 리스트 배열\n",
    "str1 = \",\".join(str1)          # 문자열 합치기\n",
    "print(type(str1))\n",
    "print(str1)\n",
    "print(\"-\"*30)\n",
    "print()\n",
    "\n",
    "# 문자열을 리스트로 나누기\n",
    "str1 = \"aaa bbb ccc\"\n",
    "arr = str1.split(\" \") #공백으로 구분하여 나누기\n",
    "print(type(arr))\n",
    "print(arr)"
   ]
  },
  {
   "cell_type": "markdown",
   "metadata": {},
   "source": [
    "# 웹 데이터 가져오기"
   ]
  },
  {
   "cell_type": "code",
   "execution_count": 130,
   "metadata": {},
   "outputs": [
    {
     "name": "stdout",
     "output_type": "stream",
     "text": [
      "<class 'list'>\n",
      "{'no': 5, 'title': '제목5', 'content': 'aaa BbB ccc Hello eee 10', 'date': '2019-01-18', 'hit': 11}\n",
      "{'no': 4, 'title': '제목4', 'content': 'ddd bbb ccc 14 ddd eee', 'date': '2019-01-17', 'hit': 3}\n",
      "{'no': 3, 'title': '제목3', 'content': 'eee hello ccc ddd 166 eee c', 'date': '2019-01-16', 'hit': 6}\n",
      "{'no': 2, 'title': '제목2', 'content': 'aaa bbb ccc Hello eee 1004 java', 'date': '2019-01-15', 'hit': 21}\n",
      "{'no': 1, 'title': '제목1', 'content': 'Hello 999 bbb ccc ddd World python', 'date': '2019-01-14', 'hit': 15}\n",
      "------------------------------\n",
      "\n",
      "['aaa', 'BbB', 'ccc', 'Hello', 'eee', '10']\n",
      "['ddd', 'bbb', 'ccc', '14', 'ddd', 'eee']\n",
      "['eee', 'hello', 'ccc', 'ddd', '166', 'eee', 'c']\n",
      "['aaa', 'bbb', 'ccc', 'Hello', 'eee', '1004', 'java']\n",
      "['Hello', '999', 'bbb', 'ccc', 'ddd', 'World', 'python']\n",
      "------------------------------\n",
      "\n",
      "['18', '17', '16', '15', '14']\n",
      "<class 'list'>\n",
      "------------------------------\n",
      "\n",
      "{'no': [5, 4, 3, 2, 1], 'title': ['제목5', '제목4', '제목3', '제목2', '제목1'], 'content': ['Hello', '999', 'bbb', 'ccc', 'ddd', 'World', 'python'], 'year': ['2019', '2019', '2019', '2019', '2019'], 'month': ['01', '01', '01', '01', '01'], 'day': ['18', '17', '16', '15', '14'], 'hit': [11, 3, 6, 21, 15]}\n"
     ]
    },
    {
     "name": "stderr",
     "output_type": "stream",
     "text": [
      "/opt/anaconda3/lib/python3.7/site-packages/ipykernel_launcher.py:60: DeprecationWarning: insert is deprecated. Use insert_one or insert_many instead.\n"
     ]
    },
    {
     "data": {
      "text/plain": [
       "ObjectId('5f07cafa5110dda88fa3b1fb')"
      ]
     },
     "execution_count": 130,
     "metadata": {},
     "output_type": "execute_result"
    }
   ],
   "source": [
    "## 필수항목\n",
    "import requests\n",
    "import json\n",
    "import pymongo\n",
    "\n",
    "conn = pymongo.MongoClient('192.168.99.100',32767) #mongoDB 서버 이용\n",
    "db = conn.get_database(\"db1\") # db1생성\n",
    "table = db.get_collection(\"test2\") #collection 생성 또는 불러오기 가능\n",
    "\n",
    "\n",
    "url=\"http://ihongss.com/json/exam17.json\" # 서버주소  \n",
    "str1 = requests.get(url).text #서버에서 값을 받음(문자열)\n",
    "dic = json.loads(str1) #문자를 python 자료형으로 변환\n",
    "print(type(dic)) #타입확인\n",
    "#print(dic) # 자료 확인\n",
    "\n",
    "#문제 : 받은 결과를 아래의 포멧으로 변경하시오.\n",
    "# data1 = [ {'no':5,    },{     }, {     }, {     }]\n",
    "# {no:5, title:'제목5', content:'aaa BbB ccc Hello eee 10', date:'2019-01-18', hit:11},\n",
    "\n",
    "# [{no:5, title:'제목5', content:[문자, 문자, 문자, 문자     ], year:2019, month:01, day:18, hit:11},{ },{ }]\n",
    "a=[]\n",
    "b=[]\n",
    "c=[]\n",
    "d=[]\n",
    "e=[]\n",
    "year=[]\n",
    "month=[]\n",
    "day=[]\n",
    "\n",
    "for i in dic:\n",
    "    a.append(i['no'])\n",
    "    b.append(i['title'])\n",
    "    c.append(i['content'])\n",
    "    d.append(i['date'])\n",
    "    e.append(i['hit'])\n",
    "    print(i)\n",
    "print(\"-\"*30)\n",
    "print()\n",
    "    \n",
    "for j in range(0,len(c),1):\n",
    "    c1=c[j].split(\" \")\n",
    "    print(c1)\n",
    "print(\"-\"*30)\n",
    "print()    \n",
    "\n",
    "for k in range(0,len(d),1):\n",
    "    d1=d[k].split(\"-\")\n",
    "    year.append(d1[0])\n",
    "    month.append(d1[1])\n",
    "    day.append(d1[2])\n",
    "print(day)\n",
    "print(type(d1))\n",
    "print(\"-\"*30)\n",
    "print()\n",
    "\n",
    "a1={\"no\":a,\"title\":b,\"content\":c1,\"year\":year,\"month\":month,\"day\":day,\"hit\":e}\n",
    "print(a1) \n",
    "table.insert(a1)  #추가하기"
   ]
  },
  {
   "cell_type": "code",
   "execution_count": 151,
   "metadata": {},
   "outputs": [
    {
     "name": "stdout",
     "output_type": "stream",
     "text": [
      "[{'no': 5, 'title': '제목5', 'content': ['aaa', 'BbB', 'ccc', 'Hello', 'eee', '10'], 'year': '2019', 'month': '01', 'day': '18', 'hit': 11}, {'no': 4, 'title': '제목4', 'content': ['ddd', 'bbb', 'ccc', '14', 'ddd', 'eee'], 'year': '2019', 'month': '01', 'day': '17', 'hit': 3}, {'no': 3, 'title': '제목3', 'content': ['eee', 'hello', 'ccc', 'ddd', '166', 'eee', 'c'], 'year': '2019', 'month': '01', 'day': '16', 'hit': 6}, {'no': 2, 'title': '제목2', 'content': ['aaa', 'bbb', 'ccc', 'Hello', 'eee', '1004', 'java'], 'year': '2019', 'month': '01', 'day': '15', 'hit': 21}, {'no': 1, 'title': '제목1', 'content': ['Hello', '999', 'bbb', 'ccc', 'ddd', 'World', 'python'], 'year': '2019', 'month': '01', 'day': '14', 'hit': 15}]\n"
     ]
    }
   ],
   "source": [
    "import requests\n",
    "import json\n",
    "import pymongo\n",
    "import pandas as pd\n",
    "\n",
    "url=\"http://ihongss.com/json/exam17.json\"    \n",
    "str1 = requests.get(url).text               # 문자열\n",
    "data1 = json.loads(str1) \n",
    "#data1\n",
    "\n",
    "conn = pymongo.MongoClient('192.168.99.100',32767) #mongoDB 서버 이용\n",
    "db = conn.get_database(\"db1\") # db1생성\n",
    "table = db.get_collection(\"test1\") #collection 생성 또는 불러오기 가능\n",
    "\n",
    "#문제 : 받은 결과를 아래의 포멧으로 변경하시오.\n",
    "# data1 = [ {'no':5,    },{     }, {     }, {     }]\n",
    "# {no:5, title:'제목5', content:'aaa BbB ccc Hello eee 10', date:'2019-01-18', hit:11},\n",
    "\n",
    "# [{no:5, title:'제목5', content:[문자, 문자, 문자, 문자     ], year:2019, month:01, day:18, hit:11},{ },{ }]\n",
    "data2 = []\n",
    "for i in data1:\n",
    "    b = {} # 빈 딕셔너리는 안쪽에\n",
    "    b['no'] = i['no'] #{'no':5}\n",
    "    b['title'] = i['title'] #{'title':'aa'}\n",
    "    b['content'] = i['content'].split(\" \")\n",
    "    t2 = i['date'].split(\"-\")\n",
    "    b['year'] = t2[0]\n",
    "    b['month'] = t2[1]\n",
    "    b['day'] = t2[2]\n",
    "    b['hit'] = i['hit']\n",
    "\n",
    "    data2.append(b)\n",
    "print(data2) \n",
    "\n",
    "#table.insert_many(data2)  #추가하기"
   ]
  },
  {
   "cell_type": "markdown",
   "metadata": {},
   "source": [
    "# 함수"
   ]
  },
  {
   "cell_type": "code",
   "execution_count": 131,
   "metadata": {},
   "outputs": [
    {
     "name": "stdout",
     "output_type": "stream",
     "text": [
      "9\n",
      "2\n"
     ]
    }
   ],
   "source": [
    "#함수 만들기\n",
    "def mysum(a, b):\n",
    "    return a + b\n",
    "\n",
    "\n",
    "def mymin(x): #리스트로 값이 넘어옴\n",
    "    min = x[0]\n",
    "    for i in x:\n",
    "        if min > i:\n",
    "            min = i\n",
    "    return min\n",
    "\n",
    "\n",
    "#만든 함수 호출하기\n",
    "print( mysum(4,5) )\n",
    "\n",
    "print( mymin([3,5,7,8,2]))"
   ]
  },
  {
   "cell_type": "markdown",
   "metadata": {},
   "source": [
    "# 정규표현식"
   ]
  },
  {
   "cell_type": "code",
   "execution_count": 2,
   "metadata": {},
   "outputs": [],
   "source": [
    "#정규표현식\n",
    "import re\n",
    "\n",
    "# 함수 만들기\n",
    "def mytel(x):\n",
    "    b = re.match('^[0-1]{3}-[0-9]{4}-[0-9]{4}$',x)\n",
    "    if b!=None:\n",
    "        return x\n",
    "    else:\n",
    "        return \"999-9999-9999\"\n",
    "    \n",
    "# 문제 myname 함수를 만들어서 '가나다'인 이름이 아니면 홍길동으로 변경\n",
    "def myname(y):\n",
    "    c= re.match('^가나다$',y)\n",
    "    if c!=None:\n",
    "        return \"홍길동\"\n",
    "    else:\n",
    "        return y\n",
    "# b = re.match('^[0-1]{3}-[0-9]{4}-[0-9]{4}$','010-0000-0000')\n",
    "# if b != None : \n",
    "#     print(b.span())\n",
    "#     print(b.group())\n",
    "# else:\n",
    "#     print(\"None\")"
   ]
  },
  {
   "cell_type": "code",
   "execution_count": 19,
   "metadata": {},
   "outputs": [
    {
     "name": "stdout",
     "output_type": "stream",
     "text": [
      "<class 'pandas.core.frame.DataFrame'>\n",
      "RangeIndex: 3 entries, 0 to 2\n",
      "Data columns (total 5 columns):\n",
      " #   Column  Non-Null Count  Dtype         \n",
      "---  ------  --------------  -----         \n",
      " 0   name    3 non-null      object        \n",
      " 1   age     3 non-null      int64         \n",
      " 2   tel     3 non-null      object        \n",
      " 3   gender  3 non-null      object        \n",
      " 4   date    3 non-null      datetime64[ns]\n",
      "dtypes: datetime64[ns](1), int64(1), object(3)\n",
      "memory usage: 248.0+ bytes\n"
     ]
    },
    {
     "data": {
      "text/html": [
       "<div>\n",
       "<style scoped>\n",
       "    .dataframe tbody tr th:only-of-type {\n",
       "        vertical-align: middle;\n",
       "    }\n",
       "\n",
       "    .dataframe tbody tr th {\n",
       "        vertical-align: top;\n",
       "    }\n",
       "\n",
       "    .dataframe thead th {\n",
       "        text-align: right;\n",
       "    }\n",
       "</style>\n",
       "<table border=\"1\" class=\"dataframe\">\n",
       "  <thead>\n",
       "    <tr style=\"text-align: right;\">\n",
       "      <th></th>\n",
       "      <th>name</th>\n",
       "      <th>age</th>\n",
       "      <th>tel</th>\n",
       "      <th>gender</th>\n",
       "      <th>date</th>\n",
       "      <th>time</th>\n",
       "      <th>min</th>\n",
       "      <th>sec</th>\n",
       "    </tr>\n",
       "  </thead>\n",
       "  <tbody>\n",
       "    <tr>\n",
       "      <th>0</th>\n",
       "      <td>홍길동</td>\n",
       "      <td>23</td>\n",
       "      <td>010-0000-0001</td>\n",
       "      <td>female</td>\n",
       "      <td>2019-07-08 14:02:34</td>\n",
       "      <td>14</td>\n",
       "      <td>2</td>\n",
       "      <td>34</td>\n",
       "    </tr>\n",
       "    <tr>\n",
       "      <th>1</th>\n",
       "      <td>나다라</td>\n",
       "      <td>34</td>\n",
       "      <td>999-9999-9999</td>\n",
       "      <td>male</td>\n",
       "      <td>2019-07-08 14:02:34</td>\n",
       "      <td>14</td>\n",
       "      <td>2</td>\n",
       "      <td>34</td>\n",
       "    </tr>\n",
       "    <tr>\n",
       "      <th>2</th>\n",
       "      <td>마바사</td>\n",
       "      <td>56</td>\n",
       "      <td>010-1111-2222</td>\n",
       "      <td>male</td>\n",
       "      <td>2019-07-08 14:02:34</td>\n",
       "      <td>14</td>\n",
       "      <td>2</td>\n",
       "      <td>34</td>\n",
       "    </tr>\n",
       "  </tbody>\n",
       "</table>\n",
       "</div>"
      ],
      "text/plain": [
       "  name  age            tel  gender                date  time  min  sec\n",
       "0  홍길동   23  010-0000-0001  female 2019-07-08 14:02:34    14    2   34\n",
       "1  나다라   34  999-9999-9999    male 2019-07-08 14:02:34    14    2   34\n",
       "2  마바사   56  010-1111-2222    male 2019-07-08 14:02:34    14    2   34"
      ]
     },
     "execution_count": 19,
     "metadata": {},
     "output_type": "execute_result"
    }
   ],
   "source": [
    "import pandas as pd\n",
    "\n",
    "df = pd.DataFrame({ \"name\":['가나다','나다라','마바사'], \n",
    "                   \"age\":[23,34,56], \n",
    "                   \"tel\":['010-0000-0001','010-0000-000','010-1111-2222'], \n",
    "                   \"gender\":[\"female\", \"male\", \"male\"] })\n",
    "\n",
    "# 데이터프레임의 tel의 항목을 mytel함수로 전달해서 결과를 받음 .apply(함수명)\n",
    "df['tel']=df['tel'].apply(mytel)\n",
    "df['name']=df['name'].apply(myname)\n",
    "df['date']='2019-07-08 14:02:34,' # string 타입\n",
    "df['date']=pd.to_datetime(df['date']) # string타입을 날짜 타입으로 변경\n",
    "df.info()\n",
    "df['time'] = df['date'].dt.hour         # 시(숫자)\n",
    "df['min'] = df['date'].dt.minute       # 분(숫자)\n",
    "df['sec'] = df['date'].dt.second       # 초(숫자)\n",
    "df"
   ]
  },
  {
   "cell_type": "code",
   "execution_count": 17,
   "metadata": {},
   "outputs": [
    {
     "name": "stdout",
     "output_type": "stream",
     "text": [
      "2010-01-01\n",
      "2010-02-01\n",
      "2010-03-01\n"
     ]
    }
   ],
   "source": [
    "a = []\n",
    "\n",
    "for yy in range(2010, 2011): # 2010\n",
    "    for mm in range(1, 4):   #1 2 3\n",
    "        mm_str = str(mm).zfill(2) # 들어온 숫자를 2자리로 만들어줌\n",
    "        yymm = '{}-{}-{}'.format(yy, mm_str, \"01\")\n",
    "        a.append(yymm)\n",
    "        print(yymm)"
   ]
  },
  {
   "cell_type": "code",
   "execution_count": null,
   "metadata": {},
   "outputs": [],
   "source": []
  }
 ],
 "metadata": {
  "kernelspec": {
   "display_name": "Python 3",
   "language": "python",
   "name": "python3"
  },
  "language_info": {
   "codemirror_mode": {
    "name": "ipython",
    "version": 3
   },
   "file_extension": ".py",
   "mimetype": "text/x-python",
   "name": "python",
   "nbconvert_exporter": "python",
   "pygments_lexer": "ipython3",
   "version": "3.7.6"
  }
 },
 "nbformat": 4,
 "nbformat_minor": 4
}

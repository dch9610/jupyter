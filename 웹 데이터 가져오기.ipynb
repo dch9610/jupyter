{
 "cells": [
  {
   "cell_type": "markdown",
   "metadata": {},
   "source": [
    "## 웹 데이터 가져오기"
   ]
  },
  {
   "cell_type": "code",
   "execution_count": 7,
   "metadata": {},
   "outputs": [
    {
     "name": "stdout",
     "output_type": "stream",
     "text": [
      "<class 'dict'>\n",
      "{'ret': {'id': 'a386', 'name': '123', 'age': 34}, 'ret1': {'id': 'a383', 'name': '123', 'age': 36}}\n"
     ]
    }
   ],
   "source": [
    "## 필수항목\n",
    "import requests\n",
    "import json\n",
    "\n",
    "\n",
    "url=\"http://ihongss.com/json/exam17.json\" # 서버주소  \n",
    "str1 = requests.get(url).text #서버에서 값을 받음(문자열)\n",
    "dic = json.loads(str1) #문자를 python 자료형으로 변환\n",
    "print(type(dic)) #타입확인\n",
    "print(dic) # 자료 확인"
   ]
  },
  {
   "cell_type": "code",
   "execution_count": 1,
   "metadata": {},
   "outputs": [
    {
     "name": "stdout",
     "output_type": "stream",
     "text": [
      "<class 'dict'>\n",
      "{'ret': {'id': 'a386', 'name': '123', 'age': 34}, 'ret1': {'id': 'a383', 'name': '123', 'age': 36}}\n",
      "[['a386', '123', 34]]\n",
      "[['a383', '123', 36]]\n"
     ]
    }
   ],
   "source": [
    "import requests\n",
    "import json\n",
    "\n",
    "# 서버주소\n",
    "url=\"http://ihongss.com/json/exam2.json\"    \n",
    "#서버에서 값을 받음\n",
    "str1 = requests.get(url).text               # 문자열\n",
    "#문자를 python 자료형으로 변환\n",
    "dic = json.loads(str1) \n",
    "\n",
    "print(type(dic)) #타입확인\n",
    "print(dic) # 자료 확인\n",
    "\n",
    "#id, name, age를   [ [ , , ],[ , , ] ]\n",
    "a = []  #빈리스트를 생성함.\n",
    "a1=[]\n",
    "a.append( [ dic['ret']['id'], dic['ret']['name'], dic['ret']['age']  ]) # 딕셔너리 형태로 저장\n",
    "a1.append( [ dic['ret1']['id'], dic['ret1']['name'], dic['ret1']['age']  ])\n",
    "\n",
    "print(a)\n",
    "print(a1)"
   ]
  },
  {
   "cell_type": "code",
   "execution_count": 3,
   "metadata": {},
   "outputs": [
    {
     "name": "stdout",
     "output_type": "stream",
     "text": [
      "[{'id': 'a2001', 'name': '123', 'age': 34}, {'id': 'a2002', 'name': '123', 'age': 54}, {'id': 'a2003', 'name': '123', 'age': 36}, {'id': 'a2004', 'name': '123', 'age': 38}]\n",
      "a2001 123 34\n",
      "a2002 123 54\n",
      "a2003 123 36\n",
      "a2004 123 38\n",
      "a2005 123 17\n",
      "a2006 123 52\n",
      "a2007 123 33\n",
      "[['a2001', '123', 34], ['a2002', '123', 54], ['a2003', '123', 36], ['a2004', '123', 38], ['a2005', '123', 17], ['a2006', '123', 52], ['a2007', '123', 33]]\n",
      "==============================\n",
      "['a2002', '123', 54]\n",
      "['a2006', '123', 52]\n"
     ]
    }
   ],
   "source": [
    "import requests\n",
    "import json\n",
    "\n",
    "# 서버주소\n",
    "url=\"http://ihongss.com/json/exam3.json\"    \n",
    "#서버에서 값을 받음\n",
    "str1 = requests.get(url).text               # 문자열\n",
    "#문자를 python 자료형으로 변환\n",
    "dic = json.loads(str1) \n",
    "\n",
    "#print(dic) # {\"ret\":[], \"ret1\":[] }\n",
    "\n",
    "a1 = []  #빈리스트를 생성함.\n",
    "a = dic[\"ret\"]  #[{},{},{},{}]\n",
    "print(a)\n",
    "for i in a: #4번 반복함\n",
    "    print(i['id'],i['name'],i['age'])    # 딕셔너리\n",
    "    a1.append(  [ i['id'],i['name'],i['age'] ]    )\n",
    "\n",
    "b = dic[\"ret1\"] #[{},{},{}]\n",
    "for i in b:\n",
    "    print(i['id'],i['name'],i['age'])\n",
    "    a1.append(  [ i['id'],i['name'],i['age'] ]    )\n",
    "\n",
    "\n",
    "# [ [],[],[],[],[],[],[] ]\n",
    "print(a1)\n",
    "print(\"=\" * 30)\n",
    "for t in a1: #7번 반복문\n",
    "    if t[2]>=40 :\n",
    "        print(t) #[ 아이디, 이름, 나이]"
   ]
  },
  {
   "cell_type": "code",
   "execution_count": null,
   "metadata": {},
   "outputs": [],
   "source": []
  }
 ],
 "metadata": {
  "kernelspec": {
   "display_name": "Python 3",
   "language": "python",
   "name": "python3"
  },
  "language_info": {
   "codemirror_mode": {
    "name": "ipython",
    "version": 3
   },
   "file_extension": ".py",
   "mimetype": "text/x-python",
   "name": "python",
   "nbconvert_exporter": "python",
   "pygments_lexer": "ipython3",
   "version": "3.7.6"
  }
 },
 "nbformat": 4,
 "nbformat_minor": 4
}

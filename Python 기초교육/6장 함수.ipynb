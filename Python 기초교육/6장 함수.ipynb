{
 "cells": [
  {
   "cell_type": "markdown",
   "metadata": {},
   "source": [
    "## 6.1 사용자 정의 함수"
   ]
  },
  {
   "cell_type": "code",
   "execution_count": 1,
   "metadata": {},
   "outputs": [],
   "source": [
    "# 사용자 정희 함수의 구조\n",
    "#def 함수명:\n",
    "# 실행문1\n",
    "# 실행문2"
   ]
  },
  {
   "cell_type": "code",
   "execution_count": 5,
   "metadata": {},
   "outputs": [
    {
     "name": "stdout",
     "output_type": "stream",
     "text": [
      "Hello\n",
      "Hello\n"
     ]
    }
   ],
   "source": [
    "def say():\n",
    "    print('Hello')\n",
    "    print('Hello')\n",
    "say()"
   ]
  },
  {
   "cell_type": "code",
   "execution_count": 7,
   "metadata": {},
   "outputs": [
    {
     "name": "stdout",
     "output_type": "stream",
     "text": [
      "9\n"
     ]
    }
   ],
   "source": [
    "#매개변수, 인수\n",
    "def add(a,b): \n",
    "    return a+b\n",
    "print(add(4,5))"
   ]
  },
  {
   "cell_type": "code",
   "execution_count": 8,
   "metadata": {},
   "outputs": [
    {
     "ename": "SyntaxError",
     "evalue": "unexpected EOF while parsing (<ipython-input-8-6a03c1182aaa>, line 8)",
     "output_type": "error",
     "traceback": [
      "\u001b[1;36m  File \u001b[1;32m\"<ipython-input-8-6a03c1182aaa>\"\u001b[1;36m, line \u001b[1;32m8\u001b[0m\n\u001b[1;33m    def abcd():\u001b[0m\n\u001b[1;37m               ^\u001b[0m\n\u001b[1;31mSyntaxError\u001b[0m\u001b[1;31m:\u001b[0m unexpected EOF while parsing\n"
     ]
    }
   ],
   "source": [
    "#입력값과 결과값에 따른 함수의 형태 (입력값-> 함수 -> 리턴값)\n",
    "#입력값O, 리턴값0\n",
    "def add(a,b): \n",
    "    return a+b\n",
    "print(add(4,5))\n",
    "\n",
    "#입력값X, 리턴값0\n",
    "def abcd():\n",
    "    return 'efg'\n",
    "    a=abcd()"
   ]
  },
  {
   "cell_type": "code",
   "execution_count": 10,
   "metadata": {},
   "outputs": [
    {
     "name": "stdout",
     "output_type": "stream",
     "text": [
      "19\n"
     ]
    }
   ],
   "source": [
    "#매개변수 지정하여 호출하기\n",
    "def add(a,b):\n",
    "    return a+b\n",
    "result=add(a=9,b=10)\n",
    "print(result)"
   ]
  },
  {
   "cell_type": "code",
   "execution_count": 15,
   "metadata": {},
   "outputs": [
    {
     "name": "stdout",
     "output_type": "stream",
     "text": [
      "1\n"
     ]
    }
   ],
   "source": [
    "#입력값이 몇개가 될지 모를때\n",
    "def abcd(*args): # * 입력값들을 튜플로 만들어줌\n",
    "    result=0\n",
    "    for i in args:\n",
    "        result=result+i\n",
    "        return result\n",
    "result=abcd(1,2,3,4,5)\n",
    "print(result)"
   ]
  },
  {
   "cell_type": "code",
   "execution_count": 16,
   "metadata": {},
   "outputs": [],
   "source": [
    "#사용자 정의 함수"
   ]
  },
  {
   "cell_type": "code",
   "execution_count": 29,
   "metadata": {},
   "outputs": [
    {
     "name": "stdout",
     "output_type": "stream",
     "text": [
      "(19, 90)\n"
     ]
    }
   ],
   "source": [
    "def abc(a,*args):\n",
    "    if a=='cute':\n",
    "        x=0\n",
    "        for i in args:\n",
    "            x=x+i\n",
    "    elif a==\"pretty\":\n",
    "        x=1\n",
    "        for i in args:\n",
    "            x=x*i\n",
    "        return x\n",
    "    x=abc(\"pretty\",1,2,3,4,5)\n",
    "print(x)"
   ]
  },
  {
   "cell_type": "code",
   "execution_count": 30,
   "metadata": {},
   "outputs": [
    {
     "name": "stdout",
     "output_type": "stream",
     "text": [
      "{'a': 10}\n",
      "{'num': 1, 'name': 'chang', 'age': 10}\n"
     ]
    }
   ],
   "source": [
    "## 키워드 파라미터 **\n",
    "def abc(**kwargs): #딕셔너리로 저장\n",
    "    print(kwargs)\n",
    "abc(a=10)\n",
    "abc(num=1,name='chang',age=10)\n"
   ]
  },
  {
   "cell_type": "code",
   "execution_count": 28,
   "metadata": {},
   "outputs": [
    {
     "name": "stdout",
     "output_type": "stream",
     "text": [
      "(19, 90)\n"
     ]
    }
   ],
   "source": [
    "# 함수의 결과값은 언제나 하나\n",
    "def abcd(a,b):\n",
    "    return a+b,a*b\n",
    "x=abcd(9,10)\n",
    "print(x)"
   ]
  },
  {
   "cell_type": "code",
   "execution_count": 31,
   "metadata": {},
   "outputs": [],
   "source": [
    "# 리턴문 2개 쓰면 2번째 이상의 리턴문은 의미가 없음"
   ]
  },
  {
   "cell_type": "code",
   "execution_count": 35,
   "metadata": {},
   "outputs": [
    {
     "name": "stdout",
     "output_type": "stream",
     "text": [
      "Name:Lee\n",
      "Age 25\n",
      "Female\n"
     ]
    }
   ],
   "source": [
    "#초기값 설정\n",
    "def abcd(name,age,man=True):\n",
    "    print(\"Name:%s\" %name)\n",
    "    print(\"Age %s\" %age)\n",
    "    if man:\n",
    "        print(\"Male\")\n",
    "    else:\n",
    "        print(\"Female\")\n",
    "abcd(\"Lee\",25,False)"
   ]
  },
  {
   "cell_type": "code",
   "execution_count": 41,
   "metadata": {},
   "outputs": [
    {
     "name": "stdout",
     "output_type": "stream",
     "text": [
      "1\n"
     ]
    }
   ],
   "source": [
    "k=1\n",
    "def abcd(k):\n",
    "    k=k+1\n",
    "    return k\n",
    "abcd(k)\n",
    "print(k)"
   ]
  },
  {
   "cell_type": "code",
   "execution_count": 38,
   "metadata": {},
   "outputs": [
    {
     "ename": "NameError",
     "evalue": "name 'w' is not defined",
     "output_type": "error",
     "traceback": [
      "\u001b[1;31m---------------------------------------------------------------------------\u001b[0m",
      "\u001b[1;31mNameError\u001b[0m                                 Traceback (most recent call last)",
      "\u001b[1;32m<ipython-input-38-e097917f487c>\u001b[0m in \u001b[0;36m<module>\u001b[1;34m\u001b[0m\n\u001b[0;32m      2\u001b[0m     \u001b[0mw\u001b[0m\u001b[1;33m=\u001b[0m\u001b[0mw\u001b[0m\u001b[1;33m+\u001b[0m\u001b[1;36m1\u001b[0m\u001b[1;33m\u001b[0m\u001b[1;33m\u001b[0m\u001b[0m\n\u001b[0;32m      3\u001b[0m \u001b[0mabcd\u001b[0m\u001b[1;33m(\u001b[0m\u001b[1;36m9\u001b[0m\u001b[1;33m)\u001b[0m\u001b[1;33m\u001b[0m\u001b[1;33m\u001b[0m\u001b[0m\n\u001b[1;32m----> 4\u001b[1;33m \u001b[0mprint\u001b[0m\u001b[1;33m(\u001b[0m\u001b[0mw\u001b[0m\u001b[1;33m)\u001b[0m\u001b[1;33m\u001b[0m\u001b[1;33m\u001b[0m\u001b[0m\n\u001b[0m",
      "\u001b[1;31mNameError\u001b[0m: name 'w' is not defined"
     ]
    }
   ],
   "source": [
    "def abcd(w):\n",
    "    global w #함수 밖에 있는 변수를 불러옴\n",
    "    w=w+1\n",
    "abcd(9)\n",
    "print(w)"
   ]
  },
  {
   "cell_type": "code",
   "execution_count": 42,
   "metadata": {},
   "outputs": [
    {
     "name": "stdout",
     "output_type": "stream",
     "text": [
      "19\n"
     ]
    }
   ],
   "source": [
    "#lambda (def와 동일한 역할)\n",
    "abcd=lambda a,b:a+b\n",
    "result=abcd(9,10)\n",
    "print(result)"
   ]
  },
  {
   "cell_type": "markdown",
   "metadata": {},
   "source": [
    "## 입력과 출력"
   ]
  },
  {
   "cell_type": "markdown",
   "metadata": {},
   "source": [
    "## 6.3 파일 입출력"
   ]
  },
  {
   "cell_type": "code",
   "execution_count": 43,
   "metadata": {},
   "outputs": [
    {
     "data": {
      "text/plain": [
       "<function TextIOWrapper.close()>"
      ]
     },
     "execution_count": 43,
     "metadata": {},
     "output_type": "execute_result"
    }
   ],
   "source": [
    "#파일생성\n",
    "f=open(\"새파일.txt\",'w') #파일객체 = open(파일 이름, 파일 열기 모드)\n",
    "f.close"
   ]
  },
  {
   "cell_type": "code",
   "execution_count": 44,
   "metadata": {},
   "outputs": [],
   "source": [
    "# Write 파일에 결과값을 적음\n",
    "# readline() 파일의 첫번째 줄을 읽어 출력\n",
    "# readlines()는 모든 항목을 읽어 리스트 형태로 출력\n",
    "# read()는 문자열 형태로 출력\n",
    "# write 'a' 파일을 추가 모드 a로 만들어 기존 파일에 추가하여 만듬, 파일의 기존 값 다음부터 내용을 저장\n",
    "# with close 기능을 포함해줌\n",
    "# with"
   ]
  },
  {
   "cell_type": "code",
   "execution_count": 51,
   "metadata": {},
   "outputs": [],
   "source": [
    "a=open(\"C:/Users/chang/Desktop/빅데이터 청년캠퍼스/파이썬/쥬피터 노트북/hello.txt\",'w')\n",
    "for i in range(1,4):\n",
    "    b=\"%d번 항목.\\n\"%i\n",
    "    a.write(b)\n",
    "a.close()"
   ]
  },
  {
   "cell_type": "code",
   "execution_count": 52,
   "metadata": {},
   "outputs": [
    {
     "name": "stdout",
     "output_type": "stream",
     "text": [
      "1번 항목.\n",
      "\n"
     ]
    }
   ],
   "source": [
    "a=open(\"C:/Users/chang/Desktop/빅데이터 청년캠퍼스/파이썬/쥬피터 노트북/hello.txt\",'r')\n",
    "b=a.readline() #첫번째 줄만 읽어옴\n",
    "print(b)\n",
    "a.close()"
   ]
  },
  {
   "cell_type": "code",
   "execution_count": 54,
   "metadata": {},
   "outputs": [
    {
     "name": "stdout",
     "output_type": "stream",
     "text": [
      "['1번 항목.\\n', '2번 항목.\\n', '3번 항목.\\n']\n"
     ]
    },
    {
     "data": {
      "text/plain": [
       "<function TextIOWrapper.close()>"
      ]
     },
     "execution_count": 54,
     "metadata": {},
     "output_type": "execute_result"
    }
   ],
   "source": [
    "a=open(\"C:/Users/chang/Desktop/빅데이터 청년캠퍼스/파이썬/쥬피터 노트북/hello.txt\",'r')\n",
    "b=a.readlines() #가로로 전체 내용을 가져옴\n",
    "print(b)\n",
    "a.close"
   ]
  },
  {
   "cell_type": "code",
   "execution_count": 56,
   "metadata": {},
   "outputs": [
    {
     "name": "stdout",
     "output_type": "stream",
     "text": [
      "1번 항목.\n",
      "2번 항목.\n",
      "3번 항목.\n",
      "\n"
     ]
    }
   ],
   "source": [
    "a=open(\"C:/Users/chang/Desktop/빅데이터 청년캠퍼스/파이썬/쥬피터 노트북/hello.txt\",'r')\n",
    "b=a.read() #문자열 형태로 만들어 나옴\n",
    "print(b)\n",
    "a.close()"
   ]
  },
  {
   "cell_type": "code",
   "execution_count": 60,
   "metadata": {},
   "outputs": [],
   "source": [
    "a=open(\"C:/Users/chang/Desktop/빅데이터 청년캠퍼스/파이썬/쥬피터 노트북/hello.txt\",'a') \n",
    "for i in range(4,7):\n",
    "    b=\"%d번 항목.\\n\"%i\n",
    "    a.write(b)\n"
   ]
  },
  {
   "cell_type": "code",
   "execution_count": 59,
   "metadata": {},
   "outputs": [],
   "source": [
    "with open(\"hello.txt\",\"a\")as a:\n",
    "    a.write(\"Hwan\")"
   ]
  },
  {
   "cell_type": "code",
   "execution_count": null,
   "metadata": {},
   "outputs": [],
   "source": []
  }
 ],
 "metadata": {
  "kernelspec": {
   "display_name": "Python 3",
   "language": "python",
   "name": "python3"
  },
  "language_info": {
   "codemirror_mode": {
    "name": "ipython",
    "version": 3
   },
   "file_extension": ".py",
   "mimetype": "text/x-python",
   "name": "python",
   "nbconvert_exporter": "python",
   "pygments_lexer": "ipython3",
   "version": "3.7.6"
  }
 },
 "nbformat": 4,
 "nbformat_minor": 4
}

{
 "cells": [
  {
   "cell_type": "markdown",
   "metadata": {},
   "source": [
    "## 선택 흐름과 if문"
   ]
  },
  {
   "cell_type": "code",
   "execution_count": 2,
   "metadata": {},
   "outputs": [
    {
     "name": "stdout",
     "output_type": "stream",
     "text": [
      "참입니다.\n"
     ]
    }
   ],
   "source": [
    "# if문의 구조\n",
    "if True: #조건문 뒤에는 반드시 :\n",
    "    print(\"참입니다.\")\n",
    "else:\n",
    "    print(\"거짓입니다\")"
   ]
  },
  {
   "cell_type": "code",
   "execution_count": 4,
   "metadata": {},
   "outputs": [
    {
     "name": "stdout",
     "output_type": "stream",
     "text": [
      "버스를 탑니다\n"
     ]
    }
   ],
   "source": [
    "a=1000\n",
    "if a>5000:\n",
    "    print(\"택시를 탑니다\")\n",
    "else:\n",
    "    print(\"버스를 탑니다\")"
   ]
  },
  {
   "cell_type": "code",
   "execution_count": 12,
   "metadata": {},
   "outputs": [
    {
     "name": "stdout",
     "output_type": "stream",
     "text": [
      "총 평점을 입력해 주세요:2.3\n",
      "더 노력하세요\n"
     ]
    }
   ],
   "source": [
    "grade=float(input('총 평점을 입력해 주세요:')) #input으로 받는거는 문자열로 들어오기 때문에 수로 변환해야함\n",
    "if grade >= 4.3:\n",
    "    print(\"장학금 수혜자입니다.\")\n",
    "else:\n",
    "    print(\"더 노력하세요\")\n"
   ]
  },
  {
   "cell_type": "code",
   "execution_count": 14,
   "metadata": {},
   "outputs": [
    {
     "ename": "AttributeError",
     "evalue": "'float' object has no attribute 'clear'",
     "output_type": "error",
     "traceback": [
      "\u001b[1;31m---------------------------------------------------------------------------\u001b[0m",
      "\u001b[1;31mAttributeError\u001b[0m                            Traceback (most recent call last)",
      "\u001b[1;32m<ipython-input-14-a2a5f4a5c34d>\u001b[0m in \u001b[0;36m<module>\u001b[1;34m\u001b[0m\n\u001b[1;32m----> 1\u001b[1;33m \u001b[0mgrade\u001b[0m\u001b[1;33m.\u001b[0m\u001b[0mclear\u001b[0m\u001b[1;33m(\u001b[0m\u001b[1;33m)\u001b[0m\u001b[1;33m\u001b[0m\u001b[1;33m\u001b[0m\u001b[0m\n\u001b[0m",
      "\u001b[1;31mAttributeError\u001b[0m: 'float' object has no attribute 'clear'"
     ]
    }
   ],
   "source": []
  },
  {
   "cell_type": "code",
   "execution_count": 11,
   "metadata": {},
   "outputs": [
    {
     "name": "stdout",
     "output_type": "stream",
     "text": [
      "숫자를 입력하세요:2\n",
      "짝수입니다.\n"
     ]
    }
   ],
   "source": [
    "data=int(input('숫자를 입력하세요:'))\n",
    "if data %2==0:\n",
    "    print(\"짝수입니다.\")\n",
    "else: \n",
    "    print('홀수입니다.')"
   ]
  },
  {
   "cell_type": "markdown",
   "metadata": {},
   "source": [
    "## 5.2 입력과 출력"
   ]
  },
  {
   "cell_type": "code",
   "execution_count": 16,
   "metadata": {},
   "outputs": [
    {
     "name": "stdout",
     "output_type": "stream",
     "text": [
      "Python\n"
     ]
    }
   ],
   "source": [
    "a=\"Python\"\n",
    "print(a)"
   ]
  },
  {
   "cell_type": "code",
   "execution_count": 17,
   "metadata": {},
   "outputs": [
    {
     "name": "stdout",
     "output_type": "stream",
     "text": [
      "This is Lee\n"
     ]
    }
   ],
   "source": [
    "print(\"This\",\"is\",\"Lee\") #띄어쓰기는 콤마로\n"
   ]
  },
  {
   "cell_type": "markdown",
   "metadata": {},
   "source": [
    "## 5.3 선택 흐름과 If문"
   ]
  },
  {
   "cell_type": "code",
   "execution_count": 19,
   "metadata": {},
   "outputs": [
    {
     "name": "stdout",
     "output_type": "stream",
     "text": [
      "나이를 입력하세요:23\n",
      "키를 입력하세요:12\n",
      "노력하세요\n"
     ]
    }
   ],
   "source": [
    "# 중첩괸 if else 구문\n",
    "age=int(input(\"나이를 입력하세요:\"))\n",
    "height=int(input(\"키를 입력하세요:\"))\n",
    "\n",
    "if age>40:\n",
    "    if height >=170:\n",
    "        print('키가 보통이상입니다.')\n",
    "else:\n",
    "    print('노력하세요')"
   ]
  },
  {
   "cell_type": "code",
   "execution_count": 22,
   "metadata": {},
   "outputs": [
    {
     "name": "stdout",
     "output_type": "stream",
     "text": [
      "점수를 입력해주세오: 88\n",
      "A\n"
     ]
    }
   ],
   "source": [
    "#if elif 구문\n",
    "score=int(input('점수를 입력해주세오: '))\n",
    "if score >=90:\n",
    "    print('S')\n",
    "elif 90>score>=80:\n",
    "    print('A')\n",
    "elif 80>score>=70:\n",
    "    print('B')\n",
    "else:\n",
    "    print('F')"
   ]
  },
  {
   "cell_type": "markdown",
   "metadata": {},
   "source": [
    "## 반복흐름과 FOR, WHILE문"
   ]
  },
  {
   "cell_type": "code",
   "execution_count": 23,
   "metadata": {},
   "outputs": [],
   "source": [
    "#for 변수 in 리스트(튜플, 문자열):\n",
    "#  실행문장1\n",
    "#  실행문장2"
   ]
  },
  {
   "cell_type": "code",
   "execution_count": 26,
   "metadata": {},
   "outputs": [
    {
     "name": "stdout",
     "output_type": "stream",
     "text": [
      "1\n",
      "2\n",
      "3\n"
     ]
    }
   ],
   "source": [
    "for a in [1,2,3]:\n",
    "    print(a)"
   ]
  },
  {
   "cell_type": "code",
   "execution_count": 28,
   "metadata": {},
   "outputs": [
    {
     "name": "stdout",
     "output_type": "stream",
     "text": [
      "(1, 3)\n",
      "{5, 7}\n",
      "9\n"
     ]
    }
   ],
   "source": [
    "for a in [(1,3),{5,7},9]:\n",
    "    print(a)"
   ]
  },
  {
   "cell_type": "code",
   "execution_count": 31,
   "metadata": {},
   "outputs": [
    {
     "name": "stdout",
     "output_type": "stream",
     "text": [
      "3\n",
      "7\n",
      "11\n"
     ]
    }
   ],
   "source": [
    "for (a,b) in [(1,2),(3,4),{5,6}]:\n",
    "    print(a+b)"
   ]
  },
  {
   "cell_type": "code",
   "execution_count": 34,
   "metadata": {},
   "outputs": [
    {
     "name": "stdout",
     "output_type": "stream",
     "text": [
      "1\n",
      "2\n"
     ]
    }
   ],
   "source": [
    "(a,b)=(1,2)\n",
    "print(a)\n",
    "print(b)"
   ]
  },
  {
   "cell_type": "code",
   "execution_count": 35,
   "metadata": {},
   "outputs": [],
   "source": [
    "a='Hello!'\n",
    "b=['Hello!','World'] #리스트\n",
    "c=(1,2,3) #튜플"
   ]
  },
  {
   "cell_type": "code",
   "execution_count": 36,
   "metadata": {},
   "outputs": [
    {
     "name": "stdout",
     "output_type": "stream",
     "text": [
      "H\n",
      "e\n",
      "l\n",
      "l\n",
      "o\n",
      "!\n"
     ]
    }
   ],
   "source": [
    "for x in a:\n",
    "    print(x)"
   ]
  },
  {
   "cell_type": "code",
   "execution_count": 37,
   "metadata": {},
   "outputs": [
    {
     "name": "stdout",
     "output_type": "stream",
     "text": [
      "Hello!"
     ]
    }
   ],
   "source": [
    "for x in a:\n",
    "    print(x,end=\"\") #가로로 출력"
   ]
  },
  {
   "cell_type": "code",
   "execution_count": 38,
   "metadata": {},
   "outputs": [
    {
     "name": "stdout",
     "output_type": "stream",
     "text": [
      "Hello!\n",
      "World\n"
     ]
    }
   ],
   "source": [
    "for x in b:\n",
    "    print(x)"
   ]
  },
  {
   "cell_type": "code",
   "execution_count": 41,
   "metadata": {},
   "outputs": [
    {
     "name": "stdout",
     "output_type": "stream",
     "text": [
      "1\n",
      "2\n",
      "3\n"
     ]
    }
   ],
   "source": [
    "for x in c:\n",
    "    print(x)"
   ]
  },
  {
   "cell_type": "code",
   "execution_count": 45,
   "metadata": {},
   "outputs": [
    {
     "name": "stdout",
     "output_type": "stream",
     "text": [
      "circle\n",
      "rectangle\n",
      "line\n",
      "blue\n",
      "red\n",
      "green\n"
     ]
    }
   ],
   "source": [
    "d={'circle':2,'rectangle':3,'line':1} #딕셔너리\n",
    "e={'red','green','blue'} # 집합\n",
    "\n",
    "for x in d:\n",
    "    print(x)\n",
    "for y in e:\n",
    "    print(y)"
   ]
  },
  {
   "cell_type": "code",
   "execution_count": 48,
   "metadata": {},
   "outputs": [
    {
     "name": "stdout",
     "output_type": "stream",
     "text": [
      "1 합격\n",
      "2 합격\n",
      "3 불합격\n",
      "4 합격\n"
     ]
    }
   ],
   "source": [
    "#if ~ else 조건문\n",
    "Score=[100,80,30,70]\n",
    "num=0\n",
    "for a in Score:\n",
    "    num+=1\n",
    "    if a>=70:\n",
    "        print(\"%d 합격\" %num)\n",
    "    else:\n",
    "        print(\"%d 불합격\" %num)"
   ]
  },
  {
   "cell_type": "code",
   "execution_count": 49,
   "metadata": {},
   "outputs": [
    {
     "name": "stdout",
     "output_type": "stream",
     "text": [
      "1 합격\n",
      "2 합격\n",
      "4 합격\n"
     ]
    }
   ],
   "source": [
    "# Continue\n",
    "Score=[100,80,30,70]\n",
    "num=0\n",
    "for a in Score:\n",
    "    num+=1\n",
    "    if a<70:\n",
    "        continue #출력하지않고 for문으로 다시 돌아감\n",
    "    else:\n",
    "        print(\"%d 합격\" %num)"
   ]
  },
  {
   "cell_type": "code",
   "execution_count": 52,
   "metadata": {},
   "outputs": [
    {
     "name": "stdout",
     "output_type": "stream",
     "text": [
      "0\n",
      "1\n",
      "3\n",
      "6\n",
      "10\n",
      "15\n",
      "21\n",
      "28\n",
      "36\n",
      "45\n"
     ]
    }
   ],
   "source": [
    "#range 함수\n",
    "a=range(10) #0~10을 순차적으로 반환하여 리스트를 만들어줌\n",
    "a=0\n",
    "for b in range(10):\n",
    "    a=a+b\n",
    "    print(a)"
   ]
  },
  {
   "cell_type": "code",
   "execution_count": 54,
   "metadata": {},
   "outputs": [
    {
     "name": "stdout",
     "output_type": "stream",
     "text": [
      "1번 합격\n",
      "2번 합격\n"
     ]
    }
   ],
   "source": [
    "#continue, range\n",
    "a=[100,75,23,34]\n",
    "for b in range(len(a)): #range(len(a))는 [0,1,2,3]과 같다\n",
    "    if a[b]<60:\n",
    "        continue\n",
    "    print(\"%d번 합격\" %(b+1))"
   ]
  },
  {
   "cell_type": "code",
   "execution_count": 58,
   "metadata": {},
   "outputs": [
    {
     "name": "stdout",
     "output_type": "stream",
     "text": [
      "2 4 6 8 10 12 14 16 18 \n",
      "3 6 9 12 15 18 21 24 27 \n",
      "4 8 12 16 20 24 28 32 36 \n",
      "5 10 15 20 25 30 35 40 45 \n",
      "6 12 18 24 30 36 42 48 54 \n",
      "7 14 21 28 35 42 49 56 63 \n",
      "8 16 24 32 40 48 56 64 72 \n",
      "9 18 27 36 45 54 63 72 81 \n"
     ]
    }
   ],
   "source": [
    "#for~ for~ (구구단)\n",
    "for a in range(2,10):\n",
    "    for b in range(1,10):\n",
    "        print(a*b,end=\" \") #가로로 만들어줌\n",
    "    print('') #"
   ]
  },
  {
   "cell_type": "code",
   "execution_count": 59,
   "metadata": {},
   "outputs": [
    {
     "name": "stdout",
     "output_type": "stream",
     "text": [
      "1부터 10까지 합은  1 입니다\n",
      "1부터 10까지 합은  3 입니다\n",
      "1부터 10까지 합은  6 입니다\n",
      "1부터 10까지 합은  10 입니다\n",
      "1부터 10까지 합은  15 입니다\n",
      "1부터 10까지 합은  21 입니다\n",
      "1부터 10까지 합은  28 입니다\n",
      "1부터 10까지 합은  36 입니다\n",
      "1부터 10까지 합은  45 입니다\n",
      "1부터 10까지 합은  55 입니다\n"
     ]
    }
   ],
   "source": [
    "a=0\n",
    "for b in [1,2,3,4,5,6,7,8,9,10]:\n",
    "    a=a+b\n",
    "    print('1부터 10까지 합은 ',a,'입니다')"
   ]
  },
  {
   "cell_type": "code",
   "execution_count": 63,
   "metadata": {},
   "outputs": [
    {
     "name": "stdout",
     "output_type": "stream",
     "text": [
      "1부터 100까지 합은 1 d입니다\n",
      "1부터 100까지 합은 3 d입니다\n",
      "1부터 100까지 합은 6 d입니다\n",
      "1부터 100까지 합은 10 d입니다\n",
      "1부터 100까지 합은 15 d입니다\n",
      "1부터 100까지 합은 21 d입니다\n",
      "1부터 100까지 합은 28 d입니다\n",
      "1부터 100까지 합은 36 d입니다\n",
      "1부터 100까지 합은 45 d입니다\n",
      "1부터 100까지 합은 55 d입니다\n"
     ]
    }
   ],
   "source": [
    "a=0\n",
    "for b in range(1,11):\n",
    "    a=a+b\n",
    "    print('1부터 10까지 합은',a,'d입니다')"
   ]
  },
  {
   "cell_type": "code",
   "execution_count": 64,
   "metadata": {},
   "outputs": [
    {
     "name": "stdout",
     "output_type": "stream",
     "text": [
      "1부터 10까지 홀수의 합은 1 입니다!\n",
      "1부터 10까지 홀수의 합은 4 입니다!\n",
      "1부터 10까지 홀수의 합은 9 입니다!\n",
      "1부터 10까지 홀수의 합은 16 입니다!\n",
      "1부터 10까지 홀수의 합은 25 입니다!\n"
     ]
    }
   ],
   "source": [
    "a=0\n",
    "for b in range(1,11,2):\n",
    "    a=a+b\n",
    "    print('1부터 10까지 홀수의 합은',a,'입니다!')"
   ]
  },
  {
   "cell_type": "code",
   "execution_count": null,
   "metadata": {},
   "outputs": [],
   "source": [
    "lst=[1,2,3,4,5]\n",
    "result=[]\n",
    "for num in lst:\n",
    "    result.append(num*3)\n",
    "    print(result)"
   ]
  },
  {
   "cell_type": "markdown",
   "metadata": {},
   "source": [
    "## WHILE문"
   ]
  },
  {
   "cell_type": "code",
   "execution_count": 70,
   "metadata": {},
   "outputs": [],
   "source": [
    "a=1\n",
    "while a>5:\n",
    "    print(a)"
   ]
  },
  {
   "cell_type": "code",
   "execution_count": 69,
   "metadata": {},
   "outputs": [
    {
     "name": "stdout",
     "output_type": "stream",
     "text": [
      "1\n",
      "2\n",
      "3\n",
      "4\n",
      "5\n"
     ]
    }
   ],
   "source": [
    "a=1\n",
    "while a<=5:\n",
    "    print(a)\n",
    "    a=a+1"
   ]
  },
  {
   "cell_type": "code",
   "execution_count": 68,
   "metadata": {},
   "outputs": [
    {
     "name": "stdout",
     "output_type": "stream",
     "text": [
      "[1, 2, 3]\n"
     ]
    }
   ],
   "source": [
    "a=[1,2,3]\n",
    "print(a)"
   ]
  },
  {
   "cell_type": "code",
   "execution_count": 75,
   "metadata": {},
   "outputs": [
    {
     "name": "stdout",
     "output_type": "stream",
     "text": [
      "1부터 10까지의 합은 1\n",
      "1부터 10까지의 합은 3\n",
      "1부터 10까지의 합은 6\n",
      "1부터 10까지의 합은 10\n",
      "1부터 10까지의 합은 15\n",
      "1부터 10까지의 합은 21\n",
      "1부터 10까지의 합은 28\n",
      "1부터 10까지의 합은 36\n",
      "1부터 10까지의 합은 45\n",
      "1부터 10까지의 합은 55\n"
     ]
    }
   ],
   "source": [
    "a=1\n",
    "b=0\n",
    "while a<=10:\n",
    "    b=b+a\n",
    "    a=a+1\n",
    "    print('1부터 10까지의 합은',b)"
   ]
  },
  {
   "cell_type": "code",
   "execution_count": null,
   "metadata": {},
   "outputs": [],
   "source": [
    "# break\n",
    "candy=4\n",
    "money=300\n",
    "while money:\n",
    "    print(\"지불했으니 사탕을 줍니다.\")\n",
    "    candy=candy-1\n",
    "    print(\"남은 사탕의 양은 %d개 입니다.\" %candy)\n",
    "    if candy==0:\n",
    "        print(\"중지한다.\")\n",
    "        break #while문을 빠져나옴"
   ]
  },
  {
   "cell_type": "code",
   "execution_count": null,
   "metadata": {},
   "outputs": [],
   "source": [
    "#for~ break\n",
    "a=input('중단할 문자를 입력하시오:')\n",
    "for b in 'python':\n",
    "    if b==a:\n",
    "        break\n",
    "    print(b,end=\" \")\n",
    "else:\n",
    "    print(\"모든 문자 출력완료\")"
   ]
  },
  {
   "cell_type": "code",
   "execution_count": null,
   "metadata": {},
   "outputs": [],
   "source": [
    "a=input('건너뛸 문자를 입력하시오:')\n",
    "for b in 'python':\n",
    "    if b==a:\n",
    "        continue\n",
    "    print(b)"
   ]
  },
  {
   "cell_type": "markdown",
   "metadata": {},
   "source": [
    "## PASS문"
   ]
  },
  {
   "cell_type": "code",
   "execution_count": null,
   "metadata": {},
   "outputs": [],
   "source": [
    "a=input('중단할 문자를 입력하시오:')\n",
    "for b in'python':\n",
    "    if b==a:\n",
    "        pass\n",
    "    print(b)"
   ]
  },
  {
   "cell_type": "code",
   "execution_count": null,
   "metadata": {},
   "outputs": [],
   "source": [
    "#예제: 요일 구하기\n",
    "#서기 1년 1월 1일은 월요일이다.\n",
    "#4로 나누어지는 해는 윤년이다.\n",
    "#100으로 나누어지는 해는 윤년이 아니다.\n",
    "#400으로 나누어지는 해는 윤년이다.\n",
    "# 년월일을 입력받는다."
   ]
  },
  {
   "cell_type": "code",
   "execution_count": null,
   "metadata": {},
   "outputs": [],
   "source": [
    "year=int(input(\"년도를 입력하세요:\"))\n",
    "month=int(input(\"월을 입력하세요: \"))\n",
    "day=int(input(\"일을 입력하세요:\"))\n",
    "\n",
    "total_days=0\n",
    "\n",
    "#달별 날수를 리스트로 저장\n",
    "year_month_days=[0,31,28,31,30,31,30,31,31,30,31,30,31]\n",
    "\n",
    "#서기 1년부터 year-1까지의 각 년도 별 날수를 합한다.\n",
    "for item in range(1,year):\n",
    "    if item%400 ==0: #윤년\n",
    "        total_days=total_days+366 \n",
    "    elif item%100 ==0:\n",
    "        total_days=total_days+365\n",
    "    elif item%4==0: #윤년\n",
    "        total_days=total_days+366\n",
    "    else:\n",
    "        total_days=total_days+365\n",
    "\n",
    "#1월달부터 month-1까지의 각 달의 날수를 합한다.\n",
    "for item in range(1,month):\n",
    "    total_days=total_days+year_month_days[item]\n",
    "    \n",
    "#입력된 달이 3이상이고 해당년도가 윤년일 경우 1을 추가\n",
    "if month >=3:\n",
    "    if year%400 ==0: #윤년\n",
    "        total_days=total_days+1\n",
    "    elif item%100 ==0:\n",
    "        total_days=total_days+0\n",
    "    elif item%4==0: #윤년\n",
    "        total_days=total_days+1\n",
    "    else:\n",
    "        total_days=total_days+0\n",
    "        \n",
    "total_days+=day\n",
    "\n",
    "#총 수를 7로 나눈 나머지를 구한다.\n",
    "remainder=total_days&7\n",
    "\n",
    "if remainder==0:\n",
    "    print(\"월요일입니다.\")\n",
    "elif remainder==1:\n",
    "    print(\"화요일입니다.\")\n",
    "elif remainder==2:\n",
    "    print(\"수요일입니다.\")\n",
    "elif remainder==3:\n",
    "    print(\"목요일입니다.\")\n",
    "elif remainder==4:\n",
    "    print(\"금요일입니다.\")\n",
    "elif remainder==5:\n",
    "    print(\"토요일입니다.\")\n",
    "elif remainder==6:\n",
    "    print(\"일요일입니다.\")"
   ]
  },
  {
   "cell_type": "code",
   "execution_count": null,
   "metadata": {},
   "outputs": [],
   "source": []
  }
 ],
 "metadata": {
  "kernelspec": {
   "display_name": "Python 3",
   "language": "python",
   "name": "python3"
  }
 },
 "nbformat": 4,
 "nbformat_minor": 4
}

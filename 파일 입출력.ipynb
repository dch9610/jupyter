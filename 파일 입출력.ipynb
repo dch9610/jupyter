{
 "cells": [
  {
   "cell_type": "markdown",
   "metadata": {},
   "source": [
    "## 1. 파일 입출력\n",
    "\n",
    "#write 파일에 결과값을 적음\n",
    "#readline() 파일의 첫번째 줄을 읽어 출력\n",
    "#readlines()는 모든 항목을 읽어 리스트 형태로 출력\n",
    "#read()는 문자열 형태로 출력\n",
    "#write 'a' 파일을 추가 모드 a로 만들어 기존 파일에 추가하여 만듬, 파일의 기존 값 다음부터 내용을 저장\n",
    "#with close 기능을 포함해줌\n",
    "\n",
    "#파일생성\n",
    "f=open(\"새파일.txt\",'w') #파일객체 = open(파일 이름, 파일 열기 모드)\n",
    "f.close"
   ]
  },
  {
   "cell_type": "code",
   "execution_count": null,
   "metadata": {},
   "outputs": [],
   "source": [
    "# text 파일을 만들고 저장\n",
    "a=open(\"C:/Users/chang/Desktop/빅데이터 청년캠퍼스/파이썬/쥬피터 노트북/hello.txt\",'w')\n",
    "for i in range(1,4):\n",
    "    b=\"%d번 항목.\\n\"%i\n",
    "    a.write(b)\n",
    "a.close()"
   ]
  },
  {
   "cell_type": "code",
   "execution_count": null,
   "metadata": {},
   "outputs": [],
   "source": [
    "# 해당 text 파일의 첫번째 줄만 읽어옴\n",
    "a=open(\"C:/Users/chang/Desktop/빅데이터 청년캠퍼스/파이썬/쥬피터 노트북/hello.txt\",'r')\n",
    "b=a.readline() #첫번째 줄만 읽어옴\n",
    "print(b)\n",
    "a.close()"
   ]
  },
  {
   "cell_type": "code",
   "execution_count": null,
   "metadata": {},
   "outputs": [],
   "source": [
    "# 전체 내용을 가져옴\n",
    "a=open(\"C:/Users/chang/Desktop/빅데이터 청년캠퍼스/파이썬/쥬피터 노트북/hello.txt\",'r')\n",
    "b=a.readlines() #가로로 전체 내용을 가져옴\n",
    "print(b)\n",
    "a.close"
   ]
  },
  {
   "cell_type": "code",
   "execution_count": null,
   "metadata": {},
   "outputs": [],
   "source": [
    "a=open(\"C:/Users/chang/Desktop/빅데이터 청년캠퍼스/파이썬/쥬피터 노트북/hello.txt\",'r')\n",
    "b=a.read() #문자열 형태로 만들어 나옴\n",
    "print(b)\n",
    "a.close()"
   ]
  },
  {
   "cell_type": "code",
   "execution_count": null,
   "metadata": {},
   "outputs": [],
   "source": [
    "# 기존 파일에 값을 추가하여 만듬\n",
    "a=open(\"C:/Users/chang/Desktop/빅데이터 청년캠퍼스/파이썬/쥬피터 노트북/hello.txt\",'a') \n",
    "for i in range(4,7):\n",
    "    b=\"%d번 항목.\\n\"%i\n",
    "    a.write(b)"
   ]
  }
 ],
 "metadata": {
  "kernelspec": {
   "display_name": "Python 3",
   "language": "python",
   "name": "python3"
  },
  "language_info": {
   "codemirror_mode": {
    "name": "ipython",
    "version": 3
   },
   "file_extension": ".py",
   "mimetype": "text/x-python",
   "name": "python",
   "nbconvert_exporter": "python",
   "pygments_lexer": "ipython3",
   "version": "3.7.6"
  }
 },
 "nbformat": 4,
 "nbformat_minor": 4
}

{
 "cells": [
  {
   "cell_type": "markdown",
   "metadata": {},
   "source": [
    "# 정규표현식"
   ]
  },
  {
   "cell_type": "code",
   "execution_count": 4,
   "metadata": {},
   "outputs": [
    {
     "name": "stdout",
     "output_type": "stream",
     "text": [
      "(0, 13)\n",
      "011-0000-0000\n",
      "(0, 17)\n",
      "dch9610@naver.com\n",
      "(0, 4)\n",
      "가나다라\n",
      "(0, 8)\n",
      "23:56:23\n",
      "(0, 10)\n",
      "2019-10-22\n"
     ]
    }
   ],
   "source": [
    "# 정규표현식\n",
    "import re\n",
    "# 전화번호\n",
    "b=re.match('^[0-1]{3}-[0-9]{4}-[0-9]{4}$','011-0000-0000') # ^(시작) [0부터1사이] {3}개 - 0부터 9까지 {4}개 - 0부터 9까지 {4}개 $(끝)\n",
    "if b!=None:\n",
    "    print(b.span())\n",
    "    print(b.group())\n",
    "else:\n",
    "    print(\"None\")\n",
    "    \n",
    "# 이메일\n",
    "p = re.match( '^[a-zA-Z0-9+-_.]+@[a-zA-Z0-9-]+\\.[a-zA-Z0-9-.]+$', 'dch9610@naver.com' ) \n",
    "# [a-zA-Z0-9+_.]은 대,소문자, 숫자 다 사용가능 +는 앞에 부분이 한개 이상 써야한다.\n",
    "if p != None : \n",
    "    print(p.span())\n",
    "    print(p.group())\n",
    "else:\n",
    "    print(\"None\")\n",
    "    \n",
    "# 이름\n",
    "p1 = re.match( '^[가-힣]{2,4}$', '가나다라' ) \n",
    "# [가-힣]은 한글 문자, {2~4글자}\n",
    "if p1 != None : \n",
    "    print(p1.span())\n",
    "    print(p1.group())\n",
    "else:\n",
    "    print(\"None\")\n",
    "    \n",
    "#시간\n",
    "time1=re.match('^([0-1]{1}[0-9]{1}|[0-2]{1}[0-3]{1}):[0-5]{1}[0-9]{1}:[0-5]{1}[0-9]{1}$','23:56:23') #( | ) or 조건\n",
    "if time1 != None : \n",
    "    print(time1.span())\n",
    "    print(time1.group())\n",
    "else:\n",
    "    print(\"None\")\n",
    "# if time1 != None:\n",
    "#     time2=time1.group()\n",
    "\n",
    "#날짜\n",
    "date1=re.match('^[1-2]{1}[0-9]{3}-[0-1]{1}[0-9]{1}-[0-2]{1}[0-9]{1}$','2019-10-22')\n",
    "if date1 != None : \n",
    "    print(date1.span())\n",
    "    print(date1.group())\n",
    "else:\n",
    "    print(\"None\")    \n"
   ]
  },
  {
   "cell_type": "markdown",
   "metadata": {},
   "source": [
    "## 웹 html"
   ]
  },
  {
   "cell_type": "code",
   "execution_count": 9,
   "metadata": {},
   "outputs": [
    {
     "name": "stdout",
     "output_type": "stream",
     "text": [
      "코로나도 막을 수 없는 여름! 여행 산업의 트래픽 급증 중\n",
      "현대 다크웹 범죄자들 사이에서 거래되고 있는 계정 수는 무려 150억\n",
      "[CSRC@KAIST 차세대보안R&D리포트] 인공지능 시대의 개인정보와 프라...\n",
      "문재인 대통령 “코로나19 극복에도 정보보호 기술 큰 힘” \n",
      "‘코로나19’부터 ‘성착취’까지 다양한 이슈 악용한 사이버 위협들 \n",
      "\n"
     ]
    }
   ],
   "source": [
    "# 웹 html의 데이터를 가져옴\n",
    "# select_one == find   => 리스트가 아님\n",
    "# select == find_all   => 리스트로 반환됨\n",
    "from bs4 import BeautifulSoup\n",
    "import requests\n",
    "\n",
    "url = \"https://www.boannews.com/Default.asp\" # html 주소 가져오기\n",
    "str = requests.get(url) \n",
    "soup = BeautifulSoup(str.text, 'html.parser')\n",
    "\n",
    "a=soup.find(\"div\",id=\"headline0\") #headline0 정보를 가져옴\n",
    "b=a.find_all(\"li\") #li 속한 값을 다 불러옴 리스트 형태로\n",
    "#print(a)\n",
    "for i in b:\n",
    "    print(i.find(\"p\").text)\n",
    "print()"
   ]
  },
  {
   "cell_type": "code",
   "execution_count": 7,
   "metadata": {},
   "outputs": [
    {
     "name": "stdout",
     "output_type": "stream",
     "text": [
      "<location wl_ver=\"3\">\n",
      "<province>서울ㆍ인천ㆍ경기도</province>\n",
      "<city>서울</city>\n",
      "<data>\n",
      "<numef>2</numef>\n",
      "<tmef>2020-07-11</tmef>\n",
      "<wf>구름많음</wf>\n",
      "<tmn>22</tmn>\n",
      "<tmx>30</tmx>\n",
      "<reliability></reliability>\n",
      "</data>\n",
      "<data>\n",
      "<numef>3</numef>\n",
      "<tmef>2020-07-12</tmef>\n",
      "<wf>흐리고 비</wf>\n",
      "<tmn>22</tmn>\n",
      "<tmx>26</tmx>\n",
      "<reliability></reliability>\n",
      "</data>\n",
      "<data>\n",
      "<numef>4</numef>\n",
      "<tmef>2020-07-13</tmef>\n",
      "<wf>흐리고 비</wf>\n",
      "<tmn>22</tmn>\n",
      "<tmx>26</tmx>\n",
      "<reliability></reliability>\n",
      "</data>\n",
      "<data>\n",
      "<numef>5</numef>\n",
      "<tmef>2020-07-14</tmef>\n",
      "<wf>맑음</wf>\n",
      "<tmn>21</tmn>\n",
      "<tmx>28</tmx>\n",
      "<reliability></reliability>\n",
      "</data>\n",
      "<data>\n",
      "<numef>6</numef>\n",
      "<tmef>2020-07-15</tmef>\n",
      "<wf>맑음</wf>\n",
      "<tmn>22</tmn>\n",
      "<tmx>28</tmx>\n",
      "<reliability></reliability>\n",
      "</data>\n",
      "<data>\n",
      "<numef>7</numef>\n",
      "<tmef>2020-07-16</tmef>\n",
      "<wf>맑음</wf>\n",
      "<tmn>21</tmn>\n",
      "<tmx>29</tmx>\n",
      "<reliability></reliability>\n",
      "</data>\n",
      "</location>\n"
     ]
    }
   ],
   "source": []
  },
  {
   "cell_type": "code",
   "execution_count": null,
   "metadata": {},
   "outputs": [],
   "source": []
  }
 ],
 "metadata": {
  "kernelspec": {
   "display_name": "Python 3",
   "language": "python",
   "name": "python3"
  },
  "language_info": {
   "codemirror_mode": {
    "name": "ipython",
    "version": 3
   },
   "file_extension": ".py",
   "mimetype": "text/x-python",
   "name": "python",
   "nbconvert_exporter": "python",
   "pygments_lexer": "ipython3",
   "version": "3.7.6"
  }
 },
 "nbformat": 4,
 "nbformat_minor": 4
}
